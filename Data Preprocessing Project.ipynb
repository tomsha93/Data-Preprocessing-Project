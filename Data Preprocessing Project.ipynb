{
 "cells": [
  {
   "cell_type": "markdown",
   "id": "986798ea",
   "metadata": {},
   "source": [
    "## Project description\n",
    "In our project we'll prepare a report for a bank’s loan division. we'll need to find out if a customer’s marital status and number of children have an impact on whether they will default on a loan."
   ]
  },
  {
   "cell_type": "markdown",
   "id": "71d6b4a5",
   "metadata": {},
   "source": [
    "## Open the data file and have a look at the general information. \n",
    "\n",
    "[Start with importing the libraries and loading the data. You may realise that you need additional libraries as you go, which is totally fine - just make sure to update this section when you do.]"
   ]
  },
  {
   "cell_type": "code",
   "execution_count": 1,
   "id": "a47ac1e7",
   "metadata": {
    "scrolled": false
   },
   "outputs": [],
   "source": [
    "# Loading all the libraries\n",
    "import pandas as pd\n",
    "import numpy as np\n",
    "\n",
    "# Load the data\n",
    "try:\n",
    "    df = pd.read_csv(r\"C:\\Users\\tomsh\\Desktop\\Python Projects\\Project 1 - Data preprocessing\\credit_scoring_eng.csv\")\n",
    "except:\n",
    "    df = pd.read_csv('/datasets/credit_scoring_eng.csv')\n",
    "    \n"
   ]
  },
  {
   "cell_type": "markdown",
   "id": "6fc866b0",
   "metadata": {},
   "source": [
    "## Task 1. Data exploration\n",
    "\n",
    "**Description of the data**\n",
    "- `children` - the number of children in the family\n",
    "- `days_employed` - work experience in days\n",
    "- `dob_years` - client's age in years\n",
    "- `education` - client's education\n",
    "- `education_id` - education identifier\n",
    "- `family_status` - marital status\n",
    "- `family_status_id` - marital status identifier\n",
    "- `gender` - gender of the client\n",
    "- `income_type` - type of employment\n",
    "- `debt` - was there any debt on loan repayment\n",
    "- `total_income` - monthly income\n",
    "- `purpose` - the purpose of obtaining a loan\n",
    "\n",
    "[Now let's explore our data. You'll want to see how many columns and rows it has, look at a few rows to check for potential issues with the data.]"
   ]
  },
  {
   "cell_type": "code",
   "execution_count": 2,
   "id": "68f2326b",
   "metadata": {
    "scrolled": false
   },
   "outputs": [
    {
     "name": "stdout",
     "output_type": "stream",
     "text": [
      "<class 'pandas.core.frame.DataFrame'>\n",
      "RangeIndex: 21525 entries, 0 to 21524\n",
      "Data columns (total 12 columns):\n",
      " #   Column            Non-Null Count  Dtype  \n",
      "---  ------            --------------  -----  \n",
      " 0   children          21525 non-null  int64  \n",
      " 1   days_employed     19351 non-null  float64\n",
      " 2   dob_years         21525 non-null  int64  \n",
      " 3   education         21525 non-null  object \n",
      " 4   education_id      21525 non-null  int64  \n",
      " 5   family_status     21525 non-null  object \n",
      " 6   family_status_id  21525 non-null  int64  \n",
      " 7   gender            21525 non-null  object \n",
      " 8   income_type       21525 non-null  object \n",
      " 9   debt              21525 non-null  int64  \n",
      " 10  total_income      19351 non-null  float64\n",
      " 11  purpose           21525 non-null  object \n",
      "dtypes: float64(2), int64(5), object(5)\n",
      "memory usage: 2.0+ MB\n"
     ]
    }
   ],
   "source": [
    "# Let's see how many rows and columns our dataset has\n",
    "\n",
    "df.info()"
   ]
  },
  {
   "cell_type": "code",
   "execution_count": 3,
   "id": "ada8045c",
   "metadata": {
    "scrolled": false
   },
   "outputs": [
    {
     "data": {
      "text/html": [
       "<div>\n",
       "<style scoped>\n",
       "    .dataframe tbody tr th:only-of-type {\n",
       "        vertical-align: middle;\n",
       "    }\n",
       "\n",
       "    .dataframe tbody tr th {\n",
       "        vertical-align: top;\n",
       "    }\n",
       "\n",
       "    .dataframe thead th {\n",
       "        text-align: right;\n",
       "    }\n",
       "</style>\n",
       "<table border=\"1\" class=\"dataframe\">\n",
       "  <thead>\n",
       "    <tr style=\"text-align: right;\">\n",
       "      <th></th>\n",
       "      <th>children</th>\n",
       "      <th>days_employed</th>\n",
       "      <th>dob_years</th>\n",
       "      <th>education</th>\n",
       "      <th>education_id</th>\n",
       "      <th>family_status</th>\n",
       "      <th>family_status_id</th>\n",
       "      <th>gender</th>\n",
       "      <th>income_type</th>\n",
       "      <th>debt</th>\n",
       "      <th>total_income</th>\n",
       "      <th>purpose</th>\n",
       "    </tr>\n",
       "  </thead>\n",
       "  <tbody>\n",
       "    <tr>\n",
       "      <th>0</th>\n",
       "      <td>1</td>\n",
       "      <td>-8437.673028</td>\n",
       "      <td>42</td>\n",
       "      <td>bachelor's degree</td>\n",
       "      <td>0</td>\n",
       "      <td>married</td>\n",
       "      <td>0</td>\n",
       "      <td>F</td>\n",
       "      <td>employee</td>\n",
       "      <td>0</td>\n",
       "      <td>40620.102</td>\n",
       "      <td>purchase of the house</td>\n",
       "    </tr>\n",
       "    <tr>\n",
       "      <th>1</th>\n",
       "      <td>1</td>\n",
       "      <td>-4024.803754</td>\n",
       "      <td>36</td>\n",
       "      <td>secondary education</td>\n",
       "      <td>1</td>\n",
       "      <td>married</td>\n",
       "      <td>0</td>\n",
       "      <td>F</td>\n",
       "      <td>employee</td>\n",
       "      <td>0</td>\n",
       "      <td>17932.802</td>\n",
       "      <td>car purchase</td>\n",
       "    </tr>\n",
       "    <tr>\n",
       "      <th>2</th>\n",
       "      <td>0</td>\n",
       "      <td>-5623.422610</td>\n",
       "      <td>33</td>\n",
       "      <td>Secondary Education</td>\n",
       "      <td>1</td>\n",
       "      <td>married</td>\n",
       "      <td>0</td>\n",
       "      <td>M</td>\n",
       "      <td>employee</td>\n",
       "      <td>0</td>\n",
       "      <td>23341.752</td>\n",
       "      <td>purchase of the house</td>\n",
       "    </tr>\n",
       "    <tr>\n",
       "      <th>3</th>\n",
       "      <td>3</td>\n",
       "      <td>-4124.747207</td>\n",
       "      <td>32</td>\n",
       "      <td>secondary education</td>\n",
       "      <td>1</td>\n",
       "      <td>married</td>\n",
       "      <td>0</td>\n",
       "      <td>M</td>\n",
       "      <td>employee</td>\n",
       "      <td>0</td>\n",
       "      <td>42820.568</td>\n",
       "      <td>supplementary education</td>\n",
       "    </tr>\n",
       "    <tr>\n",
       "      <th>4</th>\n",
       "      <td>0</td>\n",
       "      <td>340266.072047</td>\n",
       "      <td>53</td>\n",
       "      <td>secondary education</td>\n",
       "      <td>1</td>\n",
       "      <td>civil partnership</td>\n",
       "      <td>1</td>\n",
       "      <td>F</td>\n",
       "      <td>retiree</td>\n",
       "      <td>0</td>\n",
       "      <td>25378.572</td>\n",
       "      <td>to have a wedding</td>\n",
       "    </tr>\n",
       "  </tbody>\n",
       "</table>\n",
       "</div>"
      ],
      "text/plain": [
       "   children  days_employed  dob_years            education  education_id  \\\n",
       "0         1   -8437.673028         42    bachelor's degree             0   \n",
       "1         1   -4024.803754         36  secondary education             1   \n",
       "2         0   -5623.422610         33  Secondary Education             1   \n",
       "3         3   -4124.747207         32  secondary education             1   \n",
       "4         0  340266.072047         53  secondary education             1   \n",
       "\n",
       "       family_status  family_status_id gender income_type  debt  total_income  \\\n",
       "0            married                 0      F    employee     0     40620.102   \n",
       "1            married                 0      F    employee     0     17932.802   \n",
       "2            married                 0      M    employee     0     23341.752   \n",
       "3            married                 0      M    employee     0     42820.568   \n",
       "4  civil partnership                 1      F     retiree     0     25378.572   \n",
       "\n",
       "                   purpose  \n",
       "0    purchase of the house  \n",
       "1             car purchase  \n",
       "2    purchase of the house  \n",
       "3  supplementary education  \n",
       "4        to have a wedding  "
      ]
     },
     "execution_count": 3,
     "metadata": {},
     "output_type": "execute_result"
    }
   ],
   "source": [
    "# let's print the first N rows\n",
    "\n",
    "df.head()"
   ]
  },
  {
   "cell_type": "code",
   "execution_count": 4,
   "id": "97ece1fa",
   "metadata": {},
   "outputs": [
    {
     "data": {
      "text/html": [
       "<div>\n",
       "<style scoped>\n",
       "    .dataframe tbody tr th:only-of-type {\n",
       "        vertical-align: middle;\n",
       "    }\n",
       "\n",
       "    .dataframe tbody tr th {\n",
       "        vertical-align: top;\n",
       "    }\n",
       "\n",
       "    .dataframe thead th {\n",
       "        text-align: right;\n",
       "    }\n",
       "</style>\n",
       "<table border=\"1\" class=\"dataframe\">\n",
       "  <thead>\n",
       "    <tr style=\"text-align: right;\">\n",
       "      <th></th>\n",
       "      <th>count</th>\n",
       "      <th>mean</th>\n",
       "      <th>std</th>\n",
       "      <th>min</th>\n",
       "      <th>25%</th>\n",
       "      <th>50%</th>\n",
       "      <th>75%</th>\n",
       "      <th>max</th>\n",
       "    </tr>\n",
       "  </thead>\n",
       "  <tbody>\n",
       "    <tr>\n",
       "      <th>children</th>\n",
       "      <td>21525.0</td>\n",
       "      <td>0.538908</td>\n",
       "      <td>1.381587</td>\n",
       "      <td>-1.000000</td>\n",
       "      <td>0.000000</td>\n",
       "      <td>0.000000</td>\n",
       "      <td>1.000000</td>\n",
       "      <td>20.000000</td>\n",
       "    </tr>\n",
       "    <tr>\n",
       "      <th>days_employed</th>\n",
       "      <td>19351.0</td>\n",
       "      <td>63046.497661</td>\n",
       "      <td>140827.311974</td>\n",
       "      <td>-18388.949901</td>\n",
       "      <td>-2747.423625</td>\n",
       "      <td>-1203.369529</td>\n",
       "      <td>-291.095954</td>\n",
       "      <td>401755.400475</td>\n",
       "    </tr>\n",
       "    <tr>\n",
       "      <th>dob_years</th>\n",
       "      <td>21525.0</td>\n",
       "      <td>43.293380</td>\n",
       "      <td>12.574584</td>\n",
       "      <td>0.000000</td>\n",
       "      <td>33.000000</td>\n",
       "      <td>42.000000</td>\n",
       "      <td>53.000000</td>\n",
       "      <td>75.000000</td>\n",
       "    </tr>\n",
       "    <tr>\n",
       "      <th>education_id</th>\n",
       "      <td>21525.0</td>\n",
       "      <td>0.817236</td>\n",
       "      <td>0.548138</td>\n",
       "      <td>0.000000</td>\n",
       "      <td>1.000000</td>\n",
       "      <td>1.000000</td>\n",
       "      <td>1.000000</td>\n",
       "      <td>4.000000</td>\n",
       "    </tr>\n",
       "    <tr>\n",
       "      <th>family_status_id</th>\n",
       "      <td>21525.0</td>\n",
       "      <td>0.972544</td>\n",
       "      <td>1.420324</td>\n",
       "      <td>0.000000</td>\n",
       "      <td>0.000000</td>\n",
       "      <td>0.000000</td>\n",
       "      <td>1.000000</td>\n",
       "      <td>4.000000</td>\n",
       "    </tr>\n",
       "    <tr>\n",
       "      <th>debt</th>\n",
       "      <td>21525.0</td>\n",
       "      <td>0.080883</td>\n",
       "      <td>0.272661</td>\n",
       "      <td>0.000000</td>\n",
       "      <td>0.000000</td>\n",
       "      <td>0.000000</td>\n",
       "      <td>0.000000</td>\n",
       "      <td>1.000000</td>\n",
       "    </tr>\n",
       "    <tr>\n",
       "      <th>total_income</th>\n",
       "      <td>19351.0</td>\n",
       "      <td>26787.568355</td>\n",
       "      <td>16475.450632</td>\n",
       "      <td>3306.762000</td>\n",
       "      <td>16488.504500</td>\n",
       "      <td>23202.870000</td>\n",
       "      <td>32549.611000</td>\n",
       "      <td>362496.645000</td>\n",
       "    </tr>\n",
       "  </tbody>\n",
       "</table>\n",
       "</div>"
      ],
      "text/plain": [
       "                    count          mean            std           min  \\\n",
       "children          21525.0      0.538908       1.381587     -1.000000   \n",
       "days_employed     19351.0  63046.497661  140827.311974 -18388.949901   \n",
       "dob_years         21525.0     43.293380      12.574584      0.000000   \n",
       "education_id      21525.0      0.817236       0.548138      0.000000   \n",
       "family_status_id  21525.0      0.972544       1.420324      0.000000   \n",
       "debt              21525.0      0.080883       0.272661      0.000000   \n",
       "total_income      19351.0  26787.568355   16475.450632   3306.762000   \n",
       "\n",
       "                           25%           50%           75%            max  \n",
       "children              0.000000      0.000000      1.000000      20.000000  \n",
       "days_employed     -2747.423625  -1203.369529   -291.095954  401755.400475  \n",
       "dob_years            33.000000     42.000000     53.000000      75.000000  \n",
       "education_id          1.000000      1.000000      1.000000       4.000000  \n",
       "family_status_id      0.000000      0.000000      1.000000       4.000000  \n",
       "debt                  0.000000      0.000000      0.000000       1.000000  \n",
       "total_income      16488.504500  23202.870000  32549.611000  362496.645000  "
      ]
     },
     "execution_count": 4,
     "metadata": {},
     "output_type": "execute_result"
    }
   ],
   "source": [
    "df.describe().T"
   ]
  },
  {
   "cell_type": "markdown",
   "id": "c6a4c5ac",
   "metadata": {},
   "source": [
    "[Describe what you see and notice in your printed data sample. Are there any issues that may need further investigation and changes?] \n",
    "\n",
    "1) There is 2 columns with missing values (could be symmetric) - need further investigation.\n",
    "2) Some nummerical columns are include negative values - need further investigation."
   ]
  },
  {
   "cell_type": "code",
   "execution_count": 5,
   "id": "82620b4a",
   "metadata": {
    "scrolled": true
   },
   "outputs": [
    {
     "data": {
      "text/html": [
       "<div>\n",
       "<style scoped>\n",
       "    .dataframe tbody tr th:only-of-type {\n",
       "        vertical-align: middle;\n",
       "    }\n",
       "\n",
       "    .dataframe tbody tr th {\n",
       "        vertical-align: top;\n",
       "    }\n",
       "\n",
       "    .dataframe thead th {\n",
       "        text-align: right;\n",
       "    }\n",
       "</style>\n",
       "<table border=\"1\" class=\"dataframe\">\n",
       "  <thead>\n",
       "    <tr style=\"text-align: right;\">\n",
       "      <th></th>\n",
       "      <th>children</th>\n",
       "      <th>days_employed</th>\n",
       "      <th>dob_years</th>\n",
       "      <th>education</th>\n",
       "      <th>education_id</th>\n",
       "      <th>family_status</th>\n",
       "      <th>family_status_id</th>\n",
       "      <th>gender</th>\n",
       "      <th>income_type</th>\n",
       "      <th>debt</th>\n",
       "      <th>total_income</th>\n",
       "      <th>purpose</th>\n",
       "    </tr>\n",
       "  </thead>\n",
       "  <tbody>\n",
       "    <tr>\n",
       "      <th>12</th>\n",
       "      <td>0</td>\n",
       "      <td>NaN</td>\n",
       "      <td>65</td>\n",
       "      <td>secondary education</td>\n",
       "      <td>1</td>\n",
       "      <td>civil partnership</td>\n",
       "      <td>1</td>\n",
       "      <td>M</td>\n",
       "      <td>retiree</td>\n",
       "      <td>0</td>\n",
       "      <td>NaN</td>\n",
       "      <td>to have a wedding</td>\n",
       "    </tr>\n",
       "    <tr>\n",
       "      <th>26</th>\n",
       "      <td>0</td>\n",
       "      <td>NaN</td>\n",
       "      <td>41</td>\n",
       "      <td>secondary education</td>\n",
       "      <td>1</td>\n",
       "      <td>married</td>\n",
       "      <td>0</td>\n",
       "      <td>M</td>\n",
       "      <td>civil servant</td>\n",
       "      <td>0</td>\n",
       "      <td>NaN</td>\n",
       "      <td>education</td>\n",
       "    </tr>\n",
       "    <tr>\n",
       "      <th>29</th>\n",
       "      <td>0</td>\n",
       "      <td>NaN</td>\n",
       "      <td>63</td>\n",
       "      <td>secondary education</td>\n",
       "      <td>1</td>\n",
       "      <td>unmarried</td>\n",
       "      <td>4</td>\n",
       "      <td>F</td>\n",
       "      <td>retiree</td>\n",
       "      <td>0</td>\n",
       "      <td>NaN</td>\n",
       "      <td>building a real estate</td>\n",
       "    </tr>\n",
       "    <tr>\n",
       "      <th>41</th>\n",
       "      <td>0</td>\n",
       "      <td>NaN</td>\n",
       "      <td>50</td>\n",
       "      <td>secondary education</td>\n",
       "      <td>1</td>\n",
       "      <td>married</td>\n",
       "      <td>0</td>\n",
       "      <td>F</td>\n",
       "      <td>civil servant</td>\n",
       "      <td>0</td>\n",
       "      <td>NaN</td>\n",
       "      <td>second-hand car purchase</td>\n",
       "    </tr>\n",
       "    <tr>\n",
       "      <th>55</th>\n",
       "      <td>0</td>\n",
       "      <td>NaN</td>\n",
       "      <td>54</td>\n",
       "      <td>secondary education</td>\n",
       "      <td>1</td>\n",
       "      <td>civil partnership</td>\n",
       "      <td>1</td>\n",
       "      <td>F</td>\n",
       "      <td>retiree</td>\n",
       "      <td>1</td>\n",
       "      <td>NaN</td>\n",
       "      <td>to have a wedding</td>\n",
       "    </tr>\n",
       "    <tr>\n",
       "      <th>...</th>\n",
       "      <td>...</td>\n",
       "      <td>...</td>\n",
       "      <td>...</td>\n",
       "      <td>...</td>\n",
       "      <td>...</td>\n",
       "      <td>...</td>\n",
       "      <td>...</td>\n",
       "      <td>...</td>\n",
       "      <td>...</td>\n",
       "      <td>...</td>\n",
       "      <td>...</td>\n",
       "      <td>...</td>\n",
       "    </tr>\n",
       "    <tr>\n",
       "      <th>21489</th>\n",
       "      <td>2</td>\n",
       "      <td>NaN</td>\n",
       "      <td>47</td>\n",
       "      <td>Secondary Education</td>\n",
       "      <td>1</td>\n",
       "      <td>married</td>\n",
       "      <td>0</td>\n",
       "      <td>M</td>\n",
       "      <td>business</td>\n",
       "      <td>0</td>\n",
       "      <td>NaN</td>\n",
       "      <td>purchase of a car</td>\n",
       "    </tr>\n",
       "    <tr>\n",
       "      <th>21495</th>\n",
       "      <td>1</td>\n",
       "      <td>NaN</td>\n",
       "      <td>50</td>\n",
       "      <td>secondary education</td>\n",
       "      <td>1</td>\n",
       "      <td>civil partnership</td>\n",
       "      <td>1</td>\n",
       "      <td>F</td>\n",
       "      <td>employee</td>\n",
       "      <td>0</td>\n",
       "      <td>NaN</td>\n",
       "      <td>wedding ceremony</td>\n",
       "    </tr>\n",
       "    <tr>\n",
       "      <th>21497</th>\n",
       "      <td>0</td>\n",
       "      <td>NaN</td>\n",
       "      <td>48</td>\n",
       "      <td>BACHELOR'S DEGREE</td>\n",
       "      <td>0</td>\n",
       "      <td>married</td>\n",
       "      <td>0</td>\n",
       "      <td>F</td>\n",
       "      <td>business</td>\n",
       "      <td>0</td>\n",
       "      <td>NaN</td>\n",
       "      <td>building a property</td>\n",
       "    </tr>\n",
       "    <tr>\n",
       "      <th>21502</th>\n",
       "      <td>1</td>\n",
       "      <td>NaN</td>\n",
       "      <td>42</td>\n",
       "      <td>secondary education</td>\n",
       "      <td>1</td>\n",
       "      <td>married</td>\n",
       "      <td>0</td>\n",
       "      <td>F</td>\n",
       "      <td>employee</td>\n",
       "      <td>0</td>\n",
       "      <td>NaN</td>\n",
       "      <td>building a real estate</td>\n",
       "    </tr>\n",
       "    <tr>\n",
       "      <th>21510</th>\n",
       "      <td>2</td>\n",
       "      <td>NaN</td>\n",
       "      <td>28</td>\n",
       "      <td>secondary education</td>\n",
       "      <td>1</td>\n",
       "      <td>married</td>\n",
       "      <td>0</td>\n",
       "      <td>F</td>\n",
       "      <td>employee</td>\n",
       "      <td>0</td>\n",
       "      <td>NaN</td>\n",
       "      <td>car purchase</td>\n",
       "    </tr>\n",
       "  </tbody>\n",
       "</table>\n",
       "<p>2174 rows × 12 columns</p>\n",
       "</div>"
      ],
      "text/plain": [
       "       children  days_employed  dob_years            education  education_id  \\\n",
       "12            0            NaN         65  secondary education             1   \n",
       "26            0            NaN         41  secondary education             1   \n",
       "29            0            NaN         63  secondary education             1   \n",
       "41            0            NaN         50  secondary education             1   \n",
       "55            0            NaN         54  secondary education             1   \n",
       "...         ...            ...        ...                  ...           ...   \n",
       "21489         2            NaN         47  Secondary Education             1   \n",
       "21495         1            NaN         50  secondary education             1   \n",
       "21497         0            NaN         48    BACHELOR'S DEGREE             0   \n",
       "21502         1            NaN         42  secondary education             1   \n",
       "21510         2            NaN         28  secondary education             1   \n",
       "\n",
       "           family_status  family_status_id gender    income_type  debt  \\\n",
       "12     civil partnership                 1      M        retiree     0   \n",
       "26               married                 0      M  civil servant     0   \n",
       "29             unmarried                 4      F        retiree     0   \n",
       "41               married                 0      F  civil servant     0   \n",
       "55     civil partnership                 1      F        retiree     1   \n",
       "...                  ...               ...    ...            ...   ...   \n",
       "21489            married                 0      M       business     0   \n",
       "21495  civil partnership                 1      F       employee     0   \n",
       "21497            married                 0      F       business     0   \n",
       "21502            married                 0      F       employee     0   \n",
       "21510            married                 0      F       employee     0   \n",
       "\n",
       "       total_income                   purpose  \n",
       "12              NaN         to have a wedding  \n",
       "26              NaN                 education  \n",
       "29              NaN    building a real estate  \n",
       "41              NaN  second-hand car purchase  \n",
       "55              NaN         to have a wedding  \n",
       "...             ...                       ...  \n",
       "21489           NaN         purchase of a car  \n",
       "21495           NaN          wedding ceremony  \n",
       "21497           NaN       building a property  \n",
       "21502           NaN    building a real estate  \n",
       "21510           NaN              car purchase  \n",
       "\n",
       "[2174 rows x 12 columns]"
      ]
     },
     "execution_count": 5,
     "metadata": {},
     "output_type": "execute_result"
    }
   ],
   "source": [
    "# Let's look at the filtered table with missing values in the the first column with missing data\n",
    "df[df.days_employed.isnull()]"
   ]
  },
  {
   "cell_type": "code",
   "execution_count": 6,
   "id": "25cd486f",
   "metadata": {
    "scrolled": true
   },
   "outputs": [
    {
     "data": {
      "text/html": [
       "<div>\n",
       "<style scoped>\n",
       "    .dataframe tbody tr th:only-of-type {\n",
       "        vertical-align: middle;\n",
       "    }\n",
       "\n",
       "    .dataframe tbody tr th {\n",
       "        vertical-align: top;\n",
       "    }\n",
       "\n",
       "    .dataframe thead th {\n",
       "        text-align: right;\n",
       "    }\n",
       "</style>\n",
       "<table border=\"1\" class=\"dataframe\">\n",
       "  <thead>\n",
       "    <tr style=\"text-align: right;\">\n",
       "      <th></th>\n",
       "      <th>children</th>\n",
       "      <th>days_employed</th>\n",
       "      <th>dob_years</th>\n",
       "      <th>education</th>\n",
       "      <th>education_id</th>\n",
       "      <th>family_status</th>\n",
       "      <th>family_status_id</th>\n",
       "      <th>gender</th>\n",
       "      <th>income_type</th>\n",
       "      <th>debt</th>\n",
       "      <th>total_income</th>\n",
       "      <th>purpose</th>\n",
       "    </tr>\n",
       "  </thead>\n",
       "  <tbody>\n",
       "    <tr>\n",
       "      <th>12</th>\n",
       "      <td>0</td>\n",
       "      <td>NaN</td>\n",
       "      <td>65</td>\n",
       "      <td>secondary education</td>\n",
       "      <td>1</td>\n",
       "      <td>civil partnership</td>\n",
       "      <td>1</td>\n",
       "      <td>M</td>\n",
       "      <td>retiree</td>\n",
       "      <td>0</td>\n",
       "      <td>NaN</td>\n",
       "      <td>to have a wedding</td>\n",
       "    </tr>\n",
       "    <tr>\n",
       "      <th>26</th>\n",
       "      <td>0</td>\n",
       "      <td>NaN</td>\n",
       "      <td>41</td>\n",
       "      <td>secondary education</td>\n",
       "      <td>1</td>\n",
       "      <td>married</td>\n",
       "      <td>0</td>\n",
       "      <td>M</td>\n",
       "      <td>civil servant</td>\n",
       "      <td>0</td>\n",
       "      <td>NaN</td>\n",
       "      <td>education</td>\n",
       "    </tr>\n",
       "    <tr>\n",
       "      <th>29</th>\n",
       "      <td>0</td>\n",
       "      <td>NaN</td>\n",
       "      <td>63</td>\n",
       "      <td>secondary education</td>\n",
       "      <td>1</td>\n",
       "      <td>unmarried</td>\n",
       "      <td>4</td>\n",
       "      <td>F</td>\n",
       "      <td>retiree</td>\n",
       "      <td>0</td>\n",
       "      <td>NaN</td>\n",
       "      <td>building a real estate</td>\n",
       "    </tr>\n",
       "    <tr>\n",
       "      <th>41</th>\n",
       "      <td>0</td>\n",
       "      <td>NaN</td>\n",
       "      <td>50</td>\n",
       "      <td>secondary education</td>\n",
       "      <td>1</td>\n",
       "      <td>married</td>\n",
       "      <td>0</td>\n",
       "      <td>F</td>\n",
       "      <td>civil servant</td>\n",
       "      <td>0</td>\n",
       "      <td>NaN</td>\n",
       "      <td>second-hand car purchase</td>\n",
       "    </tr>\n",
       "    <tr>\n",
       "      <th>55</th>\n",
       "      <td>0</td>\n",
       "      <td>NaN</td>\n",
       "      <td>54</td>\n",
       "      <td>secondary education</td>\n",
       "      <td>1</td>\n",
       "      <td>civil partnership</td>\n",
       "      <td>1</td>\n",
       "      <td>F</td>\n",
       "      <td>retiree</td>\n",
       "      <td>1</td>\n",
       "      <td>NaN</td>\n",
       "      <td>to have a wedding</td>\n",
       "    </tr>\n",
       "    <tr>\n",
       "      <th>...</th>\n",
       "      <td>...</td>\n",
       "      <td>...</td>\n",
       "      <td>...</td>\n",
       "      <td>...</td>\n",
       "      <td>...</td>\n",
       "      <td>...</td>\n",
       "      <td>...</td>\n",
       "      <td>...</td>\n",
       "      <td>...</td>\n",
       "      <td>...</td>\n",
       "      <td>...</td>\n",
       "      <td>...</td>\n",
       "    </tr>\n",
       "    <tr>\n",
       "      <th>21489</th>\n",
       "      <td>2</td>\n",
       "      <td>NaN</td>\n",
       "      <td>47</td>\n",
       "      <td>Secondary Education</td>\n",
       "      <td>1</td>\n",
       "      <td>married</td>\n",
       "      <td>0</td>\n",
       "      <td>M</td>\n",
       "      <td>business</td>\n",
       "      <td>0</td>\n",
       "      <td>NaN</td>\n",
       "      <td>purchase of a car</td>\n",
       "    </tr>\n",
       "    <tr>\n",
       "      <th>21495</th>\n",
       "      <td>1</td>\n",
       "      <td>NaN</td>\n",
       "      <td>50</td>\n",
       "      <td>secondary education</td>\n",
       "      <td>1</td>\n",
       "      <td>civil partnership</td>\n",
       "      <td>1</td>\n",
       "      <td>F</td>\n",
       "      <td>employee</td>\n",
       "      <td>0</td>\n",
       "      <td>NaN</td>\n",
       "      <td>wedding ceremony</td>\n",
       "    </tr>\n",
       "    <tr>\n",
       "      <th>21497</th>\n",
       "      <td>0</td>\n",
       "      <td>NaN</td>\n",
       "      <td>48</td>\n",
       "      <td>BACHELOR'S DEGREE</td>\n",
       "      <td>0</td>\n",
       "      <td>married</td>\n",
       "      <td>0</td>\n",
       "      <td>F</td>\n",
       "      <td>business</td>\n",
       "      <td>0</td>\n",
       "      <td>NaN</td>\n",
       "      <td>building a property</td>\n",
       "    </tr>\n",
       "    <tr>\n",
       "      <th>21502</th>\n",
       "      <td>1</td>\n",
       "      <td>NaN</td>\n",
       "      <td>42</td>\n",
       "      <td>secondary education</td>\n",
       "      <td>1</td>\n",
       "      <td>married</td>\n",
       "      <td>0</td>\n",
       "      <td>F</td>\n",
       "      <td>employee</td>\n",
       "      <td>0</td>\n",
       "      <td>NaN</td>\n",
       "      <td>building a real estate</td>\n",
       "    </tr>\n",
       "    <tr>\n",
       "      <th>21510</th>\n",
       "      <td>2</td>\n",
       "      <td>NaN</td>\n",
       "      <td>28</td>\n",
       "      <td>secondary education</td>\n",
       "      <td>1</td>\n",
       "      <td>married</td>\n",
       "      <td>0</td>\n",
       "      <td>F</td>\n",
       "      <td>employee</td>\n",
       "      <td>0</td>\n",
       "      <td>NaN</td>\n",
       "      <td>car purchase</td>\n",
       "    </tr>\n",
       "  </tbody>\n",
       "</table>\n",
       "<p>2174 rows × 12 columns</p>\n",
       "</div>"
      ],
      "text/plain": [
       "       children  days_employed  dob_years            education  education_id  \\\n",
       "12            0            NaN         65  secondary education             1   \n",
       "26            0            NaN         41  secondary education             1   \n",
       "29            0            NaN         63  secondary education             1   \n",
       "41            0            NaN         50  secondary education             1   \n",
       "55            0            NaN         54  secondary education             1   \n",
       "...         ...            ...        ...                  ...           ...   \n",
       "21489         2            NaN         47  Secondary Education             1   \n",
       "21495         1            NaN         50  secondary education             1   \n",
       "21497         0            NaN         48    BACHELOR'S DEGREE             0   \n",
       "21502         1            NaN         42  secondary education             1   \n",
       "21510         2            NaN         28  secondary education             1   \n",
       "\n",
       "           family_status  family_status_id gender    income_type  debt  \\\n",
       "12     civil partnership                 1      M        retiree     0   \n",
       "26               married                 0      M  civil servant     0   \n",
       "29             unmarried                 4      F        retiree     0   \n",
       "41               married                 0      F  civil servant     0   \n",
       "55     civil partnership                 1      F        retiree     1   \n",
       "...                  ...               ...    ...            ...   ...   \n",
       "21489            married                 0      M       business     0   \n",
       "21495  civil partnership                 1      F       employee     0   \n",
       "21497            married                 0      F       business     0   \n",
       "21502            married                 0      F       employee     0   \n",
       "21510            married                 0      F       employee     0   \n",
       "\n",
       "       total_income                   purpose  \n",
       "12              NaN         to have a wedding  \n",
       "26              NaN                 education  \n",
       "29              NaN    building a real estate  \n",
       "41              NaN  second-hand car purchase  \n",
       "55              NaN         to have a wedding  \n",
       "...             ...                       ...  \n",
       "21489           NaN         purchase of a car  \n",
       "21495           NaN          wedding ceremony  \n",
       "21497           NaN       building a property  \n",
       "21502           NaN    building a real estate  \n",
       "21510           NaN              car purchase  \n",
       "\n",
       "[2174 rows x 12 columns]"
      ]
     },
     "execution_count": 6,
     "metadata": {},
     "output_type": "execute_result"
    }
   ],
   "source": [
    "# Let's apply multiple conditions for filtering data and look at the number of rows in the filtered table.\n",
    "df[(df.days_employed.isnull())&(df.total_income.isnull())]"
   ]
  },
  {
   "cell_type": "markdown",
   "id": "9a494c85",
   "metadata": {},
   "source": [
    "**Intermediate conclusion**\n",
    "\n",
    "\n",
    "The Number of rows in the filtered table match the number of missing values (2174). Our conclusion is that the missing values (in all the columns with missing values) are symmetric.\n",
    "\n",
    "**My next steps:**\n",
    "\n",
    "1) calculate percentage of the missing values compare to whole dataset.\n",
    "\n",
    "2) check for a dependencies of the missing values with identified charactristics - i.e: maybe missing values for total income are caused by employment such as retiree?"
   ]
  },
  {
   "cell_type": "code",
   "execution_count": 7,
   "id": "147ddaa4",
   "metadata": {},
   "outputs": [
    {
     "name": "stdout",
     "output_type": "stream",
     "text": [
      "10%\n"
     ]
    }
   ],
   "source": [
    "# percentage of the missing values compared to the whole dataset\n",
    "print('{:.0%}'.format(len(df[df.days_employed.isnull()])/len(df))) "
   ]
  },
  {
   "cell_type": "code",
   "execution_count": 8,
   "id": "adb4577a",
   "metadata": {},
   "outputs": [
    {
     "data": {
      "text/plain": [
       "employee         1105\n",
       "business          508\n",
       "retiree           413\n",
       "civil servant     147\n",
       "entrepreneur        1\n",
       "Name: income_type, dtype: int64"
      ]
     },
     "execution_count": 8,
     "metadata": {},
     "output_type": "execute_result"
    }
   ],
   "source": [
    "# checking distribution\n",
    "df[df.total_income.isnull()]['income_type'].value_counts()"
   ]
  },
  {
   "cell_type": "code",
   "execution_count": 9,
   "id": "098c535b",
   "metadata": {},
   "outputs": [
    {
     "data": {
      "text/plain": [
       "employee         0.051336\n",
       "business         0.023600\n",
       "retiree          0.019187\n",
       "civil servant    0.006829\n",
       "entrepreneur     0.000046\n",
       "Name: income_type, dtype: float64"
      ]
     },
     "execution_count": 9,
     "metadata": {},
     "output_type": "execute_result"
    }
   ],
   "source": [
    "df[df.total_income.isnull()]['income_type'].value_counts()/len(df)"
   ]
  },
  {
   "cell_type": "code",
   "execution_count": 10,
   "id": "e87e9968",
   "metadata": {},
   "outputs": [
    {
     "data": {
      "text/plain": [
       "employee                       11119\n",
       "business                        5085\n",
       "retiree                         3856\n",
       "civil servant                   1459\n",
       "entrepreneur                       2\n",
       "unemployed                         2\n",
       "paternity / maternity leave        1\n",
       "student                            1\n",
       "Name: income_type, dtype: int64"
      ]
     },
     "execution_count": 10,
     "metadata": {},
     "output_type": "execute_result"
    }
   ],
   "source": [
    "# Checking the distribution in the whole dataset\n",
    "df['income_type'].value_counts()"
   ]
  },
  {
   "cell_type": "code",
   "execution_count": 11,
   "id": "db67a475",
   "metadata": {},
   "outputs": [
    {
     "data": {
      "text/plain": [
       "employee                       0.516562\n",
       "business                       0.236237\n",
       "retiree                        0.179141\n",
       "civil servant                  0.067782\n",
       "entrepreneur                   0.000093\n",
       "unemployed                     0.000093\n",
       "paternity / maternity leave    0.000046\n",
       "student                        0.000046\n",
       "Name: income_type, dtype: float64"
      ]
     },
     "execution_count": 11,
     "metadata": {},
     "output_type": "execute_result"
    }
   ],
   "source": [
    "df['income_type'].value_counts()/len(df)"
   ]
  },
  {
   "cell_type": "markdown",
   "id": "ea76da90",
   "metadata": {},
   "source": [
    " **conclusion**"
   ]
  },
  {
   "cell_type": "markdown",
   "id": "2143e750",
   "metadata": {},
   "source": [
    "There is no pattern that points up a strong relation for my theory wich was that retiree clients are caused the missing values for total income. "
   ]
  },
  {
   "cell_type": "markdown",
   "id": "7bb8d045",
   "metadata": {},
   "source": [
    "# 3  Data transformation\n",
    "[Let's go through each column to see what issues we may have in them.]\n",
    "\n",
    "[Begin with removing duplicates and fixing educational information if required.]"
   ]
  },
  {
   "cell_type": "code",
   "execution_count": 12,
   "id": "5c0c081d",
   "metadata": {},
   "outputs": [
    {
     "data": {
      "text/plain": [
       "array([\"bachelor's degree\", 'secondary education', 'Secondary Education',\n",
       "       'SECONDARY EDUCATION', \"BACHELOR'S DEGREE\", 'some college',\n",
       "       'primary education', \"Bachelor's Degree\", 'SOME COLLEGE',\n",
       "       'Some College', 'PRIMARY EDUCATION', 'Primary Education',\n",
       "       'Graduate Degree', 'GRADUATE DEGREE', 'graduate degree'],\n",
       "      dtype=object)"
      ]
     },
     "execution_count": 12,
     "metadata": {},
     "output_type": "execute_result"
    }
   ],
   "source": [
    "# Let's see all values in education column to check if and what spellings will need to be fixed\n",
    "df.education.unique()"
   ]
  },
  {
   "cell_type": "code",
   "execution_count": 13,
   "id": "78c86a88",
   "metadata": {},
   "outputs": [],
   "source": [
    "# Fix the registers if required\n",
    "df.education = df.education.str.lower()"
   ]
  },
  {
   "cell_type": "code",
   "execution_count": 14,
   "id": "249b747a",
   "metadata": {},
   "outputs": [
    {
     "data": {
      "text/plain": [
       "array([\"bachelor's degree\", 'secondary education', 'some college',\n",
       "       'primary education', 'graduate degree'], dtype=object)"
      ]
     },
     "execution_count": 14,
     "metadata": {},
     "output_type": "execute_result"
    }
   ],
   "source": [
    "# Checking all the values in the column to make sure we fixed them\n",
    "df.education.unique()"
   ]
  },
  {
   "cell_type": "code",
   "execution_count": 15,
   "id": "f4abfa22",
   "metadata": {},
   "outputs": [
    {
     "data": {
      "text/plain": [
       " 0     14149\n",
       " 1      4818\n",
       " 2      2055\n",
       " 3       330\n",
       " 20       76\n",
       "-1        47\n",
       " 4        41\n",
       " 5         9\n",
       "Name: children, dtype: int64"
      ]
     },
     "execution_count": 15,
     "metadata": {},
     "output_type": "execute_result"
    }
   ],
   "source": [
    "# Let's see the distribution of values in the `children` column\n",
    "df.children.value_counts()"
   ]
  },
  {
   "cell_type": "code",
   "execution_count": 16,
   "id": "d3c4f882",
   "metadata": {},
   "outputs": [
    {
     "data": {
      "text/plain": [
       " 0     0.657329\n",
       " 1     0.223833\n",
       " 2     0.095470\n",
       " 3     0.015331\n",
       " 20    0.003531\n",
       "-1     0.002184\n",
       " 4     0.001905\n",
       " 5     0.000418\n",
       "Name: children, dtype: float64"
      ]
     },
     "execution_count": 16,
     "metadata": {},
     "output_type": "execute_result"
    }
   ],
   "source": [
    "df.children.value_counts()/len(df)"
   ]
  },
  {
   "cell_type": "code",
   "execution_count": 17,
   "id": "2a5a3a6f",
   "metadata": {},
   "outputs": [],
   "source": [
    "# [fix the data based on your decision]\n",
    "replace_dict = {-1:1,20:2}\n",
    "df['children'] = df['children'].replace(replace_dict)"
   ]
  },
  {
   "cell_type": "code",
   "execution_count": 18,
   "id": "45327f7f",
   "metadata": {},
   "outputs": [
    {
     "data": {
      "text/plain": [
       "0    14149\n",
       "1     4865\n",
       "2     2131\n",
       "3      330\n",
       "4       41\n",
       "5        9\n",
       "Name: children, dtype: int64"
      ]
     },
     "execution_count": 18,
     "metadata": {},
     "output_type": "execute_result"
    }
   ],
   "source": [
    "# Checking the `children` column again to make sure it's all fixed\n",
    "df.children.value_counts()"
   ]
  },
  {
   "cell_type": "code",
   "execution_count": 19,
   "id": "049a892e",
   "metadata": {},
   "outputs": [
    {
     "data": {
      "text/plain": [
       "-327.685916     1\n",
       "-1580.622577    1\n",
       "-4122.460569    1\n",
       "-2828.237691    1\n",
       "-2636.090517    1\n",
       "               ..\n",
       "-7120.517564    1\n",
       "-2146.884040    1\n",
       "-881.454684     1\n",
       "-794.666350     1\n",
       "-3382.113891    1\n",
       "Name: days_employed, Length: 19351, dtype: int64"
      ]
     },
     "execution_count": 19,
     "metadata": {},
     "output_type": "execute_result"
    }
   ],
   "source": [
    "# Find problematic data in `days_employed`, if they exist, and calculate the percentage\n",
    "df.days_employed.value_counts()"
   ]
  },
  {
   "cell_type": "markdown",
   "id": "ac3d2b7a",
   "metadata": {},
   "source": [
    "**The problematic data may caused to some technical issues.\n",
    "We will use the abs() method to convert negative values to positive values.**"
   ]
  },
  {
   "cell_type": "code",
   "execution_count": 20,
   "id": "b477970f",
   "metadata": {},
   "outputs": [
    {
     "data": {
      "text/plain": [
       "-327.685916     0.000046\n",
       "-1580.622577    0.000046\n",
       "-4122.460569    0.000046\n",
       "-2828.237691    0.000046\n",
       "-2636.090517    0.000046\n",
       "                  ...   \n",
       "-7120.517564    0.000046\n",
       "-2146.884040    0.000046\n",
       "-881.454684     0.000046\n",
       "-794.666350     0.000046\n",
       "-3382.113891    0.000046\n",
       "Name: days_employed, Length: 19351, dtype: float64"
      ]
     },
     "execution_count": 20,
     "metadata": {},
     "output_type": "execute_result"
    }
   ],
   "source": [
    "df.days_employed.value_counts()/len(df)"
   ]
  },
  {
   "cell_type": "code",
   "execution_count": 21,
   "id": "51bcaed1",
   "metadata": {},
   "outputs": [],
   "source": [
    "# Address the problematic values, if they exist\n",
    "df['days_employed'] = df['days_employed'].abs()"
   ]
  },
  {
   "cell_type": "code",
   "execution_count": 22,
   "id": "c971d860",
   "metadata": {},
   "outputs": [
    {
     "data": {
      "text/plain": [
       "24.14163324048118"
      ]
     },
     "execution_count": 22,
     "metadata": {},
     "output_type": "execute_result"
    }
   ],
   "source": [
    "# Check the result - make sure it's fixed\n",
    "df['days_employed'].min()"
   ]
  },
  {
   "cell_type": "code",
   "execution_count": 23,
   "id": "04e1d3eb",
   "metadata": {},
   "outputs": [
    {
     "data": {
      "text/plain": [
       "count    21525.000000\n",
       "mean        43.293380\n",
       "std         12.574584\n",
       "min          0.000000\n",
       "25%         33.000000\n",
       "50%         42.000000\n",
       "75%         53.000000\n",
       "max         75.000000\n",
       "Name: dob_years, dtype: float64"
      ]
     },
     "execution_count": 23,
     "metadata": {},
     "output_type": "execute_result"
    }
   ],
   "source": [
    "# Check the `dob_years` for suspicious values and count the percentage\n",
    "df['dob_years'].describe()"
   ]
  },
  {
   "cell_type": "code",
   "execution_count": 24,
   "id": "8516f6a5",
   "metadata": {},
   "outputs": [
    {
     "data": {
      "text/plain": [
       "0    0.004692\n",
       "Name: dob_years, dtype: float64"
      ]
     },
     "execution_count": 24,
     "metadata": {},
     "output_type": "execute_result"
    }
   ],
   "source": [
    "df[df['dob_years']<=18]['dob_years'].value_counts()/len(df)"
   ]
  },
  {
   "cell_type": "markdown",
   "id": "d40a58cb",
   "metadata": {},
   "source": [
    "**There is a very small percentage of problematic (dob_years == 0) rows in the dob_years column.\n",
    "In this case we can remove those rows from our data.**"
   ]
  },
  {
   "cell_type": "code",
   "execution_count": 25,
   "id": "706093d3",
   "metadata": {},
   "outputs": [],
   "source": [
    "# Address the issues in the `dob_years` column, if they exist\n",
    "df = df[df.dob_years != 0]"
   ]
  },
  {
   "cell_type": "code",
   "execution_count": 26,
   "id": "c860924f",
   "metadata": {},
   "outputs": [
    {
     "data": {
      "text/plain": [
       "0"
      ]
     },
     "execution_count": 26,
     "metadata": {},
     "output_type": "execute_result"
    }
   ],
   "source": [
    "# Check the result - make sure it's fixed\n",
    "df[df['dob_years']==0]['dob_years'].count()"
   ]
  },
  {
   "cell_type": "code",
   "execution_count": 27,
   "id": "f810df38",
   "metadata": {},
   "outputs": [
    {
     "data": {
      "text/plain": [
       "married              12331\n",
       "civil partnership     4156\n",
       "unmarried             2797\n",
       "divorced              1185\n",
       "widow / widower        955\n",
       "Name: family_status, dtype: int64"
      ]
     },
     "execution_count": 27,
     "metadata": {},
     "output_type": "execute_result"
    }
   ],
   "source": [
    "# Let's see the values for the family status column\n",
    "\n",
    "df.family_status.value_counts()"
   ]
  },
  {
   "cell_type": "code",
   "execution_count": 28,
   "id": "3788709e",
   "metadata": {},
   "outputs": [
    {
     "data": {
      "text/plain": [
       "F      14164\n",
       "M       7259\n",
       "XNA        1\n",
       "Name: gender, dtype: int64"
      ]
     },
     "execution_count": 28,
     "metadata": {},
     "output_type": "execute_result"
    }
   ],
   "source": [
    "# Let's see the values in the gender column\n",
    "df.gender.value_counts()"
   ]
  },
  {
   "cell_type": "code",
   "execution_count": 29,
   "id": "9f21ee82",
   "metadata": {},
   "outputs": [
    {
     "data": {
      "text/html": [
       "<div>\n",
       "<style scoped>\n",
       "    .dataframe tbody tr th:only-of-type {\n",
       "        vertical-align: middle;\n",
       "    }\n",
       "\n",
       "    .dataframe tbody tr th {\n",
       "        vertical-align: top;\n",
       "    }\n",
       "\n",
       "    .dataframe thead th {\n",
       "        text-align: right;\n",
       "    }\n",
       "</style>\n",
       "<table border=\"1\" class=\"dataframe\">\n",
       "  <thead>\n",
       "    <tr style=\"text-align: right;\">\n",
       "      <th></th>\n",
       "      <th>children</th>\n",
       "      <th>days_employed</th>\n",
       "      <th>dob_years</th>\n",
       "      <th>education</th>\n",
       "      <th>education_id</th>\n",
       "      <th>family_status</th>\n",
       "      <th>family_status_id</th>\n",
       "      <th>gender</th>\n",
       "      <th>income_type</th>\n",
       "      <th>debt</th>\n",
       "      <th>total_income</th>\n",
       "      <th>purpose</th>\n",
       "    </tr>\n",
       "  </thead>\n",
       "  <tbody>\n",
       "    <tr>\n",
       "      <th>10701</th>\n",
       "      <td>0</td>\n",
       "      <td>2358.600502</td>\n",
       "      <td>24</td>\n",
       "      <td>some college</td>\n",
       "      <td>2</td>\n",
       "      <td>civil partnership</td>\n",
       "      <td>1</td>\n",
       "      <td>XNA</td>\n",
       "      <td>business</td>\n",
       "      <td>0</td>\n",
       "      <td>32624.825</td>\n",
       "      <td>buy real estate</td>\n",
       "    </tr>\n",
       "  </tbody>\n",
       "</table>\n",
       "</div>"
      ],
      "text/plain": [
       "       children  days_employed  dob_years     education  education_id  \\\n",
       "10701         0    2358.600502         24  some college             2   \n",
       "\n",
       "           family_status  family_status_id gender income_type  debt  \\\n",
       "10701  civil partnership                 1    XNA    business     0   \n",
       "\n",
       "       total_income          purpose  \n",
       "10701     32624.825  buy real estate  "
      ]
     },
     "execution_count": 29,
     "metadata": {},
     "output_type": "execute_result"
    }
   ],
   "source": [
    "df[df['gender']=='XNA']"
   ]
  },
  {
   "cell_type": "code",
   "execution_count": 30,
   "id": "1b60406d",
   "metadata": {},
   "outputs": [],
   "source": [
    "# Address the problematic values\n",
    "df = df[df.gender!='XNA']"
   ]
  },
  {
   "cell_type": "code",
   "execution_count": 31,
   "id": "e7b6cc3d",
   "metadata": {},
   "outputs": [
    {
     "data": {
      "text/plain": [
       "F    14164\n",
       "M     7259\n",
       "Name: gender, dtype: int64"
      ]
     },
     "execution_count": 31,
     "metadata": {},
     "output_type": "execute_result"
    }
   ],
   "source": [
    "# Check the result - make sure it's fixed\n",
    "df.gender.value_counts()"
   ]
  },
  {
   "cell_type": "code",
   "execution_count": 32,
   "id": "0df99db4",
   "metadata": {
    "scrolled": true
   },
   "outputs": [
    {
     "data": {
      "text/plain": [
       "employee                       11064\n",
       "business                        5064\n",
       "retiree                         3836\n",
       "civil servant                   1453\n",
       "entrepreneur                       2\n",
       "unemployed                         2\n",
       "paternity / maternity leave        1\n",
       "student                            1\n",
       "Name: income_type, dtype: int64"
      ]
     },
     "execution_count": 32,
     "metadata": {},
     "output_type": "execute_result"
    }
   ],
   "source": [
    "# Let's see the values in the income_type column\n",
    "df.income_type.value_counts()"
   ]
  },
  {
   "cell_type": "code",
   "execution_count": 33,
   "id": "a8b223da",
   "metadata": {},
   "outputs": [
    {
     "data": {
      "text/plain": [
       "71"
      ]
     },
     "execution_count": 33,
     "metadata": {},
     "output_type": "execute_result"
    }
   ],
   "source": [
    "# Checking duplicates\n",
    "df.duplicated().sum()"
   ]
  },
  {
   "cell_type": "code",
   "execution_count": 34,
   "id": "4b585760",
   "metadata": {},
   "outputs": [],
   "source": [
    "# Address the duplicates, if they exist\n",
    "df = df.drop_duplicates().reset_index(drop=True)"
   ]
  },
  {
   "cell_type": "code",
   "execution_count": 35,
   "id": "6c284842",
   "metadata": {},
   "outputs": [
    {
     "data": {
      "text/plain": [
       "0"
      ]
     },
     "execution_count": 35,
     "metadata": {},
     "output_type": "execute_result"
    }
   ],
   "source": [
    "# Last check whether we have any duplicates\n",
    "df.duplicated().sum()"
   ]
  },
  {
   "cell_type": "code",
   "execution_count": 36,
   "id": "0b550826",
   "metadata": {},
   "outputs": [
    {
     "name": "stdout",
     "output_type": "stream",
     "text": [
      "<class 'pandas.core.frame.DataFrame'>\n",
      "RangeIndex: 21352 entries, 0 to 21351\n",
      "Data columns (total 12 columns):\n",
      " #   Column            Non-Null Count  Dtype  \n",
      "---  ------            --------------  -----  \n",
      " 0   children          21352 non-null  int64  \n",
      " 1   days_employed     19259 non-null  float64\n",
      " 2   dob_years         21352 non-null  int64  \n",
      " 3   education         21352 non-null  object \n",
      " 4   education_id      21352 non-null  int64  \n",
      " 5   family_status     21352 non-null  object \n",
      " 6   family_status_id  21352 non-null  int64  \n",
      " 7   gender            21352 non-null  object \n",
      " 8   income_type       21352 non-null  object \n",
      " 9   debt              21352 non-null  int64  \n",
      " 10  total_income      19259 non-null  float64\n",
      " 11  purpose           21352 non-null  object \n",
      "dtypes: float64(2), int64(5), object(5)\n",
      "memory usage: 2.0+ MB\n"
     ]
    }
   ],
   "source": [
    "# Check the size of the dataset that you now have after your first manipulations with it\n",
    "df.info()"
   ]
  },
  {
   "cell_type": "markdown",
   "id": "c8b72986",
   "metadata": {},
   "source": [
    "# Working with missing values"
   ]
  },
  {
   "cell_type": "markdown",
   "id": "b7c7ed6c",
   "metadata": {},
   "source": [
    "### Restoring missing values in `total_income`"
   ]
  },
  {
   "cell_type": "code",
   "execution_count": 37,
   "id": "44efdf21",
   "metadata": {},
   "outputs": [],
   "source": [
    "# Let's write a function that calculates the age category\n",
    "def age_category(age):\n",
    "    if age < 21:\n",
    "        return 'minor'\n",
    "    if 21 < age < 30:\n",
    "        return 'young_adult'\n",
    "    else:\n",
    "        return 'adult'"
   ]
  },
  {
   "cell_type": "code",
   "execution_count": 38,
   "id": "498ae5e7",
   "metadata": {},
   "outputs": [
    {
     "data": {
      "text/plain": [
       "'adult'"
      ]
     },
     "execution_count": 38,
     "metadata": {},
     "output_type": "execute_result"
    }
   ],
   "source": [
    "# Test if the function works\n",
    "age_category(df.loc[0]['dob_years'])"
   ]
  },
  {
   "cell_type": "code",
   "execution_count": 39,
   "id": "7adf0cf1",
   "metadata": {},
   "outputs": [],
   "source": [
    "# Creating new column based on function\n",
    "df['age_category']=df['dob_years'].apply(age_category)"
   ]
  },
  {
   "cell_type": "code",
   "execution_count": 40,
   "id": "55ea4174",
   "metadata": {},
   "outputs": [
    {
     "data": {
      "text/plain": [
       "adult          18284\n",
       "young_adult     3003\n",
       "minor             65\n",
       "Name: age_category, dtype: int64"
      ]
     },
     "execution_count": 40,
     "metadata": {},
     "output_type": "execute_result"
    }
   ],
   "source": [
    "# Checking how values in the new column\n",
    "df['age_category'].value_counts()"
   ]
  },
  {
   "cell_type": "code",
   "execution_count": 41,
   "id": "401c85ca",
   "metadata": {},
   "outputs": [],
   "source": [
    "# Replacing missing values if there are any errors\n",
    "df['total_income'] = df.groupby('income_type')['total_income']\\\n",
    ".transform(lambda grp: grp.fillna(np.mean(grp)))"
   ]
  },
  {
   "cell_type": "code",
   "execution_count": 42,
   "id": "ae6f3663",
   "metadata": {},
   "outputs": [
    {
     "data": {
      "text/html": [
       "<div>\n",
       "<style scoped>\n",
       "    .dataframe tbody tr th:only-of-type {\n",
       "        vertical-align: middle;\n",
       "    }\n",
       "\n",
       "    .dataframe tbody tr th {\n",
       "        vertical-align: top;\n",
       "    }\n",
       "\n",
       "    .dataframe thead th {\n",
       "        text-align: right;\n",
       "    }\n",
       "</style>\n",
       "<table border=\"1\" class=\"dataframe\">\n",
       "  <thead>\n",
       "    <tr style=\"text-align: right;\">\n",
       "      <th></th>\n",
       "      <th>children</th>\n",
       "      <th>days_employed</th>\n",
       "      <th>dob_years</th>\n",
       "      <th>education</th>\n",
       "      <th>education_id</th>\n",
       "      <th>family_status</th>\n",
       "      <th>family_status_id</th>\n",
       "      <th>gender</th>\n",
       "      <th>income_type</th>\n",
       "      <th>debt</th>\n",
       "      <th>total_income</th>\n",
       "      <th>purpose</th>\n",
       "      <th>age_category</th>\n",
       "    </tr>\n",
       "  </thead>\n",
       "  <tbody>\n",
       "  </tbody>\n",
       "</table>\n",
       "</div>"
      ],
      "text/plain": [
       "Empty DataFrame\n",
       "Columns: [children, days_employed, dob_years, education, education_id, family_status, family_status_id, gender, income_type, debt, total_income, purpose, age_category]\n",
       "Index: []"
      ]
     },
     "execution_count": 42,
     "metadata": {},
     "output_type": "execute_result"
    }
   ],
   "source": [
    "# Checking the number of entries in the columns\n",
    "df[df['total_income'].isnull()]"
   ]
  },
  {
   "cell_type": "code",
   "execution_count": 43,
   "id": "5148971f",
   "metadata": {},
   "outputs": [
    {
     "data": {
      "text/html": [
       "<div>\n",
       "<style scoped>\n",
       "    .dataframe tbody tr th:only-of-type {\n",
       "        vertical-align: middle;\n",
       "    }\n",
       "\n",
       "    .dataframe tbody tr th {\n",
       "        vertical-align: top;\n",
       "    }\n",
       "\n",
       "    .dataframe thead th {\n",
       "        text-align: right;\n",
       "    }\n",
       "</style>\n",
       "<table border=\"1\" class=\"dataframe\">\n",
       "  <thead>\n",
       "    <tr style=\"text-align: right;\">\n",
       "      <th></th>\n",
       "      <th>children</th>\n",
       "      <th>days_employed</th>\n",
       "      <th>dob_years</th>\n",
       "      <th>education</th>\n",
       "      <th>education_id</th>\n",
       "      <th>family_status</th>\n",
       "      <th>family_status_id</th>\n",
       "      <th>gender</th>\n",
       "      <th>income_type</th>\n",
       "      <th>debt</th>\n",
       "      <th>total_income</th>\n",
       "      <th>purpose</th>\n",
       "      <th>age_category</th>\n",
       "    </tr>\n",
       "  </thead>\n",
       "  <tbody>\n",
       "    <tr>\n",
       "      <th>0</th>\n",
       "      <td>1</td>\n",
       "      <td>8437.673028</td>\n",
       "      <td>42</td>\n",
       "      <td>bachelor's degree</td>\n",
       "      <td>0</td>\n",
       "      <td>married</td>\n",
       "      <td>0</td>\n",
       "      <td>F</td>\n",
       "      <td>employee</td>\n",
       "      <td>0</td>\n",
       "      <td>40620.102</td>\n",
       "      <td>purchase of the house</td>\n",
       "      <td>adult</td>\n",
       "    </tr>\n",
       "    <tr>\n",
       "      <th>1</th>\n",
       "      <td>1</td>\n",
       "      <td>4024.803754</td>\n",
       "      <td>36</td>\n",
       "      <td>secondary education</td>\n",
       "      <td>1</td>\n",
       "      <td>married</td>\n",
       "      <td>0</td>\n",
       "      <td>F</td>\n",
       "      <td>employee</td>\n",
       "      <td>0</td>\n",
       "      <td>17932.802</td>\n",
       "      <td>car purchase</td>\n",
       "      <td>adult</td>\n",
       "    </tr>\n",
       "    <tr>\n",
       "      <th>2</th>\n",
       "      <td>0</td>\n",
       "      <td>5623.422610</td>\n",
       "      <td>33</td>\n",
       "      <td>secondary education</td>\n",
       "      <td>1</td>\n",
       "      <td>married</td>\n",
       "      <td>0</td>\n",
       "      <td>M</td>\n",
       "      <td>employee</td>\n",
       "      <td>0</td>\n",
       "      <td>23341.752</td>\n",
       "      <td>purchase of the house</td>\n",
       "      <td>adult</td>\n",
       "    </tr>\n",
       "    <tr>\n",
       "      <th>3</th>\n",
       "      <td>3</td>\n",
       "      <td>4124.747207</td>\n",
       "      <td>32</td>\n",
       "      <td>secondary education</td>\n",
       "      <td>1</td>\n",
       "      <td>married</td>\n",
       "      <td>0</td>\n",
       "      <td>M</td>\n",
       "      <td>employee</td>\n",
       "      <td>0</td>\n",
       "      <td>42820.568</td>\n",
       "      <td>supplementary education</td>\n",
       "      <td>adult</td>\n",
       "    </tr>\n",
       "    <tr>\n",
       "      <th>4</th>\n",
       "      <td>0</td>\n",
       "      <td>340266.072047</td>\n",
       "      <td>53</td>\n",
       "      <td>secondary education</td>\n",
       "      <td>1</td>\n",
       "      <td>civil partnership</td>\n",
       "      <td>1</td>\n",
       "      <td>F</td>\n",
       "      <td>retiree</td>\n",
       "      <td>0</td>\n",
       "      <td>25378.572</td>\n",
       "      <td>to have a wedding</td>\n",
       "      <td>adult</td>\n",
       "    </tr>\n",
       "  </tbody>\n",
       "</table>\n",
       "</div>"
      ],
      "text/plain": [
       "   children  days_employed  dob_years            education  education_id  \\\n",
       "0         1    8437.673028         42    bachelor's degree             0   \n",
       "1         1    4024.803754         36  secondary education             1   \n",
       "2         0    5623.422610         33  secondary education             1   \n",
       "3         3    4124.747207         32  secondary education             1   \n",
       "4         0  340266.072047         53  secondary education             1   \n",
       "\n",
       "       family_status  family_status_id gender income_type  debt  total_income  \\\n",
       "0            married                 0      F    employee     0     40620.102   \n",
       "1            married                 0      F    employee     0     17932.802   \n",
       "2            married                 0      M    employee     0     23341.752   \n",
       "3            married                 0      M    employee     0     42820.568   \n",
       "4  civil partnership                 1      F     retiree     0     25378.572   \n",
       "\n",
       "                   purpose age_category  \n",
       "0    purchase of the house        adult  \n",
       "1             car purchase        adult  \n",
       "2    purchase of the house        adult  \n",
       "3  supplementary education        adult  \n",
       "4        to have a wedding        adult  "
      ]
     },
     "execution_count": 43,
     "metadata": {},
     "output_type": "execute_result"
    }
   ],
   "source": [
    "df[df['total_income'].notna()].head()"
   ]
  },
  {
   "cell_type": "code",
   "execution_count": 44,
   "id": "c41b9a1f",
   "metadata": {},
   "outputs": [
    {
     "data": {
      "text/plain": [
       "income_type\n",
       "business                       32397.307219\n",
       "civil servant                  27361.316126\n",
       "employee                       25824.679592\n",
       "entrepreneur                   79866.103000\n",
       "paternity / maternity leave     8612.661000\n",
       "retiree                        21939.310393\n",
       "student                        15712.260000\n",
       "unemployed                     21014.360500\n",
       "Name: total_income, dtype: float64"
      ]
     },
     "execution_count": 44,
     "metadata": {},
     "output_type": "execute_result"
    }
   ],
   "source": [
    "df.groupby('income_type')['total_income'].mean()"
   ]
  },
  {
   "cell_type": "code",
   "execution_count": 45,
   "id": "34318c54",
   "metadata": {},
   "outputs": [
    {
     "data": {
      "text/plain": [
       "array([40620.102, 17932.802, 23341.752, ..., 14347.61 , 39054.888,\n",
       "       13127.587])"
      ]
     },
     "execution_count": 45,
     "metadata": {},
     "output_type": "execute_result"
    }
   ],
   "source": [
    "df.total_income.unique()"
   ]
  },
  {
   "cell_type": "markdown",
   "id": "378a9383",
   "metadata": {},
   "source": [
    "###  Restoring values in `days_employed`"
   ]
  },
  {
   "cell_type": "code",
   "execution_count": 46,
   "id": "8dda6c3e",
   "metadata": {},
   "outputs": [
    {
     "data": {
      "text/plain": [
       "income_type\n",
       "business                         1548.009883\n",
       "civil servant                    2673.404956\n",
       "employee                         1576.067689\n",
       "entrepreneur                      520.848083\n",
       "paternity / maternity leave      3296.759962\n",
       "retiree                        365176.336775\n",
       "student                           578.751554\n",
       "unemployed                     366413.652744\n",
       "Name: days_employed, dtype: float64"
      ]
     },
     "execution_count": 46,
     "metadata": {},
     "output_type": "execute_result"
    }
   ],
   "source": [
    "# Distribution of `days_employed` medians based on your identified parameters\n",
    "df.groupby('income_type')['days_employed'].median()"
   ]
  },
  {
   "cell_type": "code",
   "execution_count": 47,
   "id": "787861dd",
   "metadata": {},
   "outputs": [
    {
     "data": {
      "text/plain": [
       "income_type\n",
       "business                         2112.744402\n",
       "civil servant                    3388.508552\n",
       "employee                         2328.603723\n",
       "entrepreneur                      520.848083\n",
       "paternity / maternity leave      3296.759962\n",
       "retiree                        365015.727554\n",
       "student                           578.751554\n",
       "unemployed                     366413.652744\n",
       "Name: days_employed, dtype: float64"
      ]
     },
     "execution_count": 47,
     "metadata": {},
     "output_type": "execute_result"
    }
   ],
   "source": [
    "# Distribution of `days_employed` means based on your identified parameters\n",
    "df.groupby('income_type')['days_employed'].mean()"
   ]
  },
  {
   "cell_type": "markdown",
   "id": "1383fb67",
   "metadata": {},
   "source": [
    "**We will use median.\n",
    "In our case there are some extreme values that affect the mean.**"
   ]
  },
  {
   "cell_type": "code",
   "execution_count": 48,
   "id": "a8fd0fab",
   "metadata": {},
   "outputs": [
    {
     "data": {
      "text/plain": [
       "'check at cell below'"
      ]
     },
     "execution_count": 48,
     "metadata": {},
     "output_type": "execute_result"
    }
   ],
   "source": [
    "# Let's write a function that calculates means or medians (depending on your decision) based on your identified parameter\n",
    "'check at cell below'"
   ]
  },
  {
   "cell_type": "code",
   "execution_count": 49,
   "id": "b642c843",
   "metadata": {},
   "outputs": [],
   "source": [
    "# Apply function to the income_type\n",
    "df['days_employed'] = df['days_employed'].fillna(df.groupby('income_type')['days_employed'].transform('median'))"
   ]
  },
  {
   "cell_type": "code",
   "execution_count": 50,
   "id": "2b743bd9",
   "metadata": {},
   "outputs": [
    {
     "data": {
      "text/html": [
       "<div>\n",
       "<style scoped>\n",
       "    .dataframe tbody tr th:only-of-type {\n",
       "        vertical-align: middle;\n",
       "    }\n",
       "\n",
       "    .dataframe tbody tr th {\n",
       "        vertical-align: top;\n",
       "    }\n",
       "\n",
       "    .dataframe thead th {\n",
       "        text-align: right;\n",
       "    }\n",
       "</style>\n",
       "<table border=\"1\" class=\"dataframe\">\n",
       "  <thead>\n",
       "    <tr style=\"text-align: right;\">\n",
       "      <th></th>\n",
       "      <th>children</th>\n",
       "      <th>days_employed</th>\n",
       "      <th>dob_years</th>\n",
       "      <th>education</th>\n",
       "      <th>education_id</th>\n",
       "      <th>family_status</th>\n",
       "      <th>family_status_id</th>\n",
       "      <th>gender</th>\n",
       "      <th>income_type</th>\n",
       "      <th>debt</th>\n",
       "      <th>total_income</th>\n",
       "      <th>purpose</th>\n",
       "      <th>age_category</th>\n",
       "    </tr>\n",
       "  </thead>\n",
       "  <tbody>\n",
       "  </tbody>\n",
       "</table>\n",
       "</div>"
      ],
      "text/plain": [
       "Empty DataFrame\n",
       "Columns: [children, days_employed, dob_years, education, education_id, family_status, family_status_id, gender, income_type, debt, total_income, purpose, age_category]\n",
       "Index: []"
      ]
     },
     "execution_count": 50,
     "metadata": {},
     "output_type": "execute_result"
    }
   ],
   "source": [
    "# Check if function worked\n",
    "df[df['days_employed'].isnull()]"
   ]
  },
  {
   "cell_type": "code",
   "execution_count": 51,
   "id": "333ea8ae",
   "metadata": {},
   "outputs": [
    {
     "data": {
      "text/plain": [
       "children                              0\n",
       "days_employed             365176.336775\n",
       "dob_years                            65\n",
       "education           secondary education\n",
       "education_id                          1\n",
       "family_status         civil partnership\n",
       "family_status_id                      1\n",
       "gender                                M\n",
       "income_type                     retiree\n",
       "debt                                  0\n",
       "total_income               21939.310393\n",
       "purpose               to have a wedding\n",
       "age_category                      adult\n",
       "Name: 12, dtype: object"
      ]
     },
     "execution_count": 51,
     "metadata": {},
     "output_type": "execute_result"
    }
   ],
   "source": [
    "df.loc[12]"
   ]
  },
  {
   "cell_type": "code",
   "execution_count": 52,
   "id": "efa5e56b",
   "metadata": {},
   "outputs": [
    {
     "name": "stdout",
     "output_type": "stream",
     "text": [
      "<class 'pandas.core.frame.DataFrame'>\n",
      "RangeIndex: 21352 entries, 0 to 21351\n",
      "Data columns (total 13 columns):\n",
      " #   Column            Non-Null Count  Dtype  \n",
      "---  ------            --------------  -----  \n",
      " 0   children          21352 non-null  int64  \n",
      " 1   days_employed     21352 non-null  float64\n",
      " 2   dob_years         21352 non-null  int64  \n",
      " 3   education         21352 non-null  object \n",
      " 4   education_id      21352 non-null  int64  \n",
      " 5   family_status     21352 non-null  object \n",
      " 6   family_status_id  21352 non-null  int64  \n",
      " 7   gender            21352 non-null  object \n",
      " 8   income_type       21352 non-null  object \n",
      " 9   debt              21352 non-null  int64  \n",
      " 10  total_income      21352 non-null  float64\n",
      " 11  purpose           21352 non-null  object \n",
      " 12  age_category      21352 non-null  object \n",
      "dtypes: float64(2), int64(5), object(6)\n",
      "memory usage: 2.1+ MB\n"
     ]
    }
   ],
   "source": [
    "# Check the entries in all columns - make sure we fixed all missing values\n",
    "df.info()"
   ]
  },
  {
   "cell_type": "code",
   "execution_count": 53,
   "id": "aafea862",
   "metadata": {},
   "outputs": [
    {
     "name": "stdout",
     "output_type": "stream",
     "text": [
      "length of total_income column is: 21352\n"
     ]
    }
   ],
   "source": [
    "# Check the entries in all columns - make sure we fixed all missing values\n",
    "print('length of total_income column is: {}'.format(len(df['total_income'])))"
   ]
  },
  {
   "cell_type": "code",
   "execution_count": 54,
   "id": "305c6b9c",
   "metadata": {},
   "outputs": [
    {
     "name": "stdout",
     "output_type": "stream",
     "text": [
      "length of the whole dataset is: 21352\n"
     ]
    }
   ],
   "source": [
    "print('length of the whole dataset is: {}'.format(len(df)))"
   ]
  },
  {
   "cell_type": "markdown",
   "id": "889ade34",
   "metadata": {},
   "source": [
    "Converting days_employed and total_income to int type"
   ]
  },
  {
   "cell_type": "code",
   "execution_count": 55,
   "id": "f3926302",
   "metadata": {},
   "outputs": [
    {
     "data": {
      "text/plain": [
       "0          8437\n",
       "1          4024\n",
       "2          5623\n",
       "3          4124\n",
       "4        340266\n",
       "          ...  \n",
       "21347      4529\n",
       "21348    343937\n",
       "21349      2113\n",
       "21350      3112\n",
       "21351      1984\n",
       "Name: days_employed, Length: 21352, dtype: int32"
      ]
     },
     "execution_count": 55,
     "metadata": {},
     "output_type": "execute_result"
    }
   ],
   "source": [
    "df['days_employed'].astype(int)"
   ]
  },
  {
   "cell_type": "code",
   "execution_count": 56,
   "id": "e9ba3029",
   "metadata": {},
   "outputs": [
    {
     "data": {
      "text/plain": [
       "0        40620\n",
       "1        17932\n",
       "2        23341\n",
       "3        42820\n",
       "4        25378\n",
       "         ...  \n",
       "21347    35966\n",
       "21348    24959\n",
       "21349    14347\n",
       "21350    39054\n",
       "21351    13127\n",
       "Name: total_income, Length: 21352, dtype: int32"
      ]
     },
     "execution_count": 56,
     "metadata": {},
     "output_type": "execute_result"
    }
   ],
   "source": [
    "df['total_income'].astype(int)"
   ]
  },
  {
   "cell_type": "markdown",
   "id": "c68d6102",
   "metadata": {},
   "source": [
    " **Conclusion of data transforming**\n",
    "* We did further investigation on each column and fix multiple issues according missing values, negative value, duplicates, type converting.\n",
    "\n",
    "**Our data is now ready to our next steps which include categorizing and further investigate for relations**"
   ]
  },
  {
   "cell_type": "markdown",
   "id": "136944a4",
   "metadata": {},
   "source": [
    "##  Categorization of data\n"
   ]
  },
  {
   "cell_type": "code",
   "execution_count": 57,
   "id": "4cc851ec",
   "metadata": {},
   "outputs": [
    {
     "data": {
      "text/plain": [
       "0          purchase of the house\n",
       "1                   car purchase\n",
       "2          purchase of the house\n",
       "3        supplementary education\n",
       "4              to have a wedding\n",
       "                  ...           \n",
       "21347       housing transactions\n",
       "21348          purchase of a car\n",
       "21349                   property\n",
       "21350          buying my own car\n",
       "21351               to buy a car\n",
       "Name: purpose, Length: 21352, dtype: object"
      ]
     },
     "execution_count": 57,
     "metadata": {},
     "output_type": "execute_result"
    }
   ],
   "source": [
    "# Print the values for your selected data for categorization\n",
    "df.purpose"
   ]
  },
  {
   "cell_type": "code",
   "execution_count": 58,
   "id": "1ed98062",
   "metadata": {},
   "outputs": [
    {
     "data": {
      "text/plain": [
       "array(['purchase of the house', 'car purchase', 'supplementary education',\n",
       "       'to have a wedding', 'housing transactions', 'education',\n",
       "       'having a wedding', 'purchase of the house for my family',\n",
       "       'buy real estate', 'buy commercial real estate',\n",
       "       'buy residential real estate', 'construction of own property',\n",
       "       'property', 'building a property', 'buying a second-hand car',\n",
       "       'buying my own car', 'transactions with commercial real estate',\n",
       "       'building a real estate', 'housing',\n",
       "       'transactions with my real estate', 'cars', 'to become educated',\n",
       "       'second-hand car purchase', 'getting an education', 'car',\n",
       "       'wedding ceremony', 'to get a supplementary education',\n",
       "       'purchase of my own house', 'real estate transactions',\n",
       "       'getting higher education', 'to own a car', 'purchase of a car',\n",
       "       'profile education', 'university education',\n",
       "       'buying property for renting out', 'to buy a car',\n",
       "       'housing renovation', 'going to university'], dtype=object)"
      ]
     },
     "execution_count": 58,
     "metadata": {},
     "output_type": "execute_result"
    }
   ],
   "source": [
    "# Check the unique values\n",
    "df.purpose.unique()"
   ]
  },
  {
   "cell_type": "markdown",
   "id": "a9c0b4ad",
   "metadata": {},
   "source": [
    "**I noticed some subject that I suppose the majority of values can related to:**\n",
    "1) housing<br>\n",
    "2) education<br>\n",
    "3) cars<br>\n",
    "4) weddings<br>\n"
   ]
  },
  {
   "cell_type": "code",
   "execution_count": 59,
   "id": "87ffac09",
   "metadata": {},
   "outputs": [],
   "source": [
    "# Let's write a function to categorize the data based on common topics\n",
    "from collections import Counter"
   ]
  },
  {
   "cell_type": "code",
   "execution_count": 60,
   "id": "cf9b610c",
   "metadata": {},
   "outputs": [],
   "source": [
    "import nltk\n",
    "from nltk.stem import WordNetLemmatizer\n",
    "from nltk.tokenize import word_tokenize\n",
    "\n",
    "wordnet_lemma = WordNetLemmatizer()"
   ]
  },
  {
   "cell_type": "code",
   "execution_count": 61,
   "id": "823bfb1f",
   "metadata": {},
   "outputs": [],
   "source": [
    "lemmas_list_all = []\n",
    "\n",
    "for purpose in df.purpose.unique():\n",
    "    words = nltk.word_tokenize(purpose)\n",
    "    lemmas = [wordnet_lemma.lemmatize(w, pos = 'n') for w in words]\n",
    "    lemmas = [l.lower() for l in lemmas]\n",
    "    for i in lemmas:\n",
    "            lemmas_list_all.append(i)"
   ]
  },
  {
   "cell_type": "code",
   "execution_count": 62,
   "id": "c73b3bbb",
   "metadata": {},
   "outputs": [
    {
     "data": {
      "text/plain": [
       "['purchase',\n",
       " 'of',\n",
       " 'the',\n",
       " 'house',\n",
       " 'car',\n",
       " 'purchase',\n",
       " 'supplementary',\n",
       " 'education',\n",
       " 'to',\n",
       " 'have',\n",
       " 'a',\n",
       " 'wedding',\n",
       " 'housing',\n",
       " 'transaction',\n",
       " 'education',\n",
       " 'having',\n",
       " 'a',\n",
       " 'wedding',\n",
       " 'purchase',\n",
       " 'of',\n",
       " 'the',\n",
       " 'house',\n",
       " 'for',\n",
       " 'my',\n",
       " 'family',\n",
       " 'buy',\n",
       " 'real',\n",
       " 'estate',\n",
       " 'buy',\n",
       " 'commercial',\n",
       " 'real',\n",
       " 'estate',\n",
       " 'buy',\n",
       " 'residential',\n",
       " 'real',\n",
       " 'estate',\n",
       " 'construction',\n",
       " 'of',\n",
       " 'own',\n",
       " 'property',\n",
       " 'property',\n",
       " 'building',\n",
       " 'a',\n",
       " 'property',\n",
       " 'buying',\n",
       " 'a',\n",
       " 'second-hand',\n",
       " 'car',\n",
       " 'buying',\n",
       " 'my',\n",
       " 'own',\n",
       " 'car',\n",
       " 'transaction',\n",
       " 'with',\n",
       " 'commercial',\n",
       " 'real',\n",
       " 'estate',\n",
       " 'building',\n",
       " 'a',\n",
       " 'real',\n",
       " 'estate',\n",
       " 'housing',\n",
       " 'transaction',\n",
       " 'with',\n",
       " 'my',\n",
       " 'real',\n",
       " 'estate',\n",
       " 'car',\n",
       " 'to',\n",
       " 'become',\n",
       " 'educated',\n",
       " 'second-hand',\n",
       " 'car',\n",
       " 'purchase',\n",
       " 'getting',\n",
       " 'an',\n",
       " 'education',\n",
       " 'car',\n",
       " 'wedding',\n",
       " 'ceremony',\n",
       " 'to',\n",
       " 'get',\n",
       " 'a',\n",
       " 'supplementary',\n",
       " 'education',\n",
       " 'purchase',\n",
       " 'of',\n",
       " 'my',\n",
       " 'own',\n",
       " 'house',\n",
       " 'real',\n",
       " 'estate',\n",
       " 'transaction',\n",
       " 'getting',\n",
       " 'higher',\n",
       " 'education',\n",
       " 'to',\n",
       " 'own',\n",
       " 'a',\n",
       " 'car',\n",
       " 'purchase',\n",
       " 'of',\n",
       " 'a',\n",
       " 'car',\n",
       " 'profile',\n",
       " 'education',\n",
       " 'university',\n",
       " 'education',\n",
       " 'buying',\n",
       " 'property',\n",
       " 'for',\n",
       " 'renting',\n",
       " 'out',\n",
       " 'to',\n",
       " 'buy',\n",
       " 'a',\n",
       " 'car',\n",
       " 'housing',\n",
       " 'renovation',\n",
       " 'going',\n",
       " 'to',\n",
       " 'university']"
      ]
     },
     "execution_count": 62,
     "metadata": {},
     "output_type": "execute_result"
    }
   ],
   "source": [
    "lemmas_list_all"
   ]
  },
  {
   "cell_type": "code",
   "execution_count": 63,
   "id": "8928da4c",
   "metadata": {},
   "outputs": [
    {
     "data": {
      "text/plain": [
       "Counter({'purchase': 6,\n",
       "         'of': 5,\n",
       "         'the': 2,\n",
       "         'house': 3,\n",
       "         'car': 9,\n",
       "         'supplementary': 2,\n",
       "         'education': 7,\n",
       "         'to': 6,\n",
       "         'have': 1,\n",
       "         'a': 9,\n",
       "         'wedding': 3,\n",
       "         'housing': 3,\n",
       "         'transaction': 4,\n",
       "         'having': 1,\n",
       "         'for': 2,\n",
       "         'my': 4,\n",
       "         'family': 1,\n",
       "         'buy': 4,\n",
       "         'real': 7,\n",
       "         'estate': 7,\n",
       "         'commercial': 2,\n",
       "         'residential': 1,\n",
       "         'construction': 1,\n",
       "         'own': 4,\n",
       "         'property': 4,\n",
       "         'building': 2,\n",
       "         'buying': 3,\n",
       "         'second-hand': 2,\n",
       "         'with': 2,\n",
       "         'become': 1,\n",
       "         'educated': 1,\n",
       "         'getting': 2,\n",
       "         'an': 1,\n",
       "         'ceremony': 1,\n",
       "         'get': 1,\n",
       "         'higher': 1,\n",
       "         'profile': 1,\n",
       "         'university': 2,\n",
       "         'renting': 1,\n",
       "         'out': 1,\n",
       "         'renovation': 1,\n",
       "         'going': 1})"
      ]
     },
     "execution_count": 63,
     "metadata": {},
     "output_type": "execute_result"
    }
   ],
   "source": [
    "Counter(lemmas_list_all)"
   ]
  },
  {
   "cell_type": "code",
   "execution_count": 64,
   "id": "38c24775",
   "metadata": {},
   "outputs": [],
   "source": [
    "housing_category=['purchase','house','housing','real','estate','commercial','residential','construction','property','building','renovation']\n",
    "education_category=['education','educated','university']\n",
    "car_category=['car','second-hand']"
   ]
  },
  {
   "cell_type": "code",
   "execution_count": 65,
   "id": "d37c1010",
   "metadata": {},
   "outputs": [],
   "source": [
    "def lemmatization_func(line):\n",
    "    \n",
    "    words = nltk.word_tokenize(line)\n",
    "    lemmas = [wordnet_lemma.lemmatize(w, pos = 'n') for w in words]\n",
    "    lemmas = [l.lower() for l in lemmas]\n",
    "    \n",
    "    if any(word in lemmas for word in housing_category):\n",
    "        return 'housing'\n",
    "    elif any(word in lemmas for word in education_category):\n",
    "        return 'education'\n",
    "    elif any(word in lemmas for word in car_category):\n",
    "        return 'car'\n",
    "    else:\n",
    "        return 'other'"
   ]
  },
  {
   "cell_type": "code",
   "execution_count": 66,
   "id": "bba540e4",
   "metadata": {},
   "outputs": [],
   "source": [
    "check = df.loc[0]['purpose']"
   ]
  },
  {
   "cell_type": "code",
   "execution_count": 67,
   "id": "fd193352",
   "metadata": {},
   "outputs": [
    {
     "data": {
      "text/plain": [
       "'purchase of the house'"
      ]
     },
     "execution_count": 67,
     "metadata": {},
     "output_type": "execute_result"
    }
   ],
   "source": [
    "check"
   ]
  },
  {
   "cell_type": "code",
   "execution_count": 68,
   "id": "720f0fff",
   "metadata": {},
   "outputs": [
    {
     "data": {
      "text/plain": [
       "'housing'"
      ]
     },
     "execution_count": 68,
     "metadata": {},
     "output_type": "execute_result"
    }
   ],
   "source": [
    "lemmatization_func(check)"
   ]
  },
  {
   "cell_type": "code",
   "execution_count": 69,
   "id": "d330e19d",
   "metadata": {},
   "outputs": [],
   "source": [
    "# Create a column with the categories and count the values for them\n",
    "df['purpose_category'] = df['purpose'].apply(lemmatization_func)"
   ]
  },
  {
   "cell_type": "code",
   "execution_count": null,
   "id": "831c3c76",
   "metadata": {},
   "outputs": [],
   "source": []
  },
  {
   "cell_type": "code",
   "execution_count": 70,
   "id": "b54a8972",
   "metadata": {},
   "outputs": [
    {
     "data": {
      "text/plain": [
       "count       21352\n",
       "unique          4\n",
       "top       housing\n",
       "freq        12160\n",
       "Name: purpose_category, dtype: object"
      ]
     },
     "execution_count": 70,
     "metadata": {},
     "output_type": "execute_result"
    }
   ],
   "source": [
    "df['purpose_category'].describe()"
   ]
  },
  {
   "cell_type": "code",
   "execution_count": 71,
   "id": "189be572",
   "metadata": {
    "scrolled": true
   },
   "outputs": [
    {
     "data": {
      "text/plain": [
       "housing      12160\n",
       "education     3995\n",
       "car           2887\n",
       "other         2310\n",
       "Name: purpose_category, dtype: int64"
      ]
     },
     "execution_count": 71,
     "metadata": {},
     "output_type": "execute_result"
    }
   ],
   "source": [
    "df['purpose_category'].value_counts()"
   ]
  },
  {
   "cell_type": "code",
   "execution_count": 72,
   "id": "fe6ded23",
   "metadata": {},
   "outputs": [
    {
     "data": {
      "text/plain": [
       "array([40620.102, 17932.802, 23341.752, ..., 14347.61 , 39054.888,\n",
       "       13127.587])"
      ]
     },
     "execution_count": 72,
     "metadata": {},
     "output_type": "execute_result"
    }
   ],
   "source": [
    "# Looking through all the numerical data in your selected column for categorization\n",
    "df['total_income'].unique()"
   ]
  },
  {
   "cell_type": "code",
   "execution_count": 73,
   "id": "21c33135",
   "metadata": {},
   "outputs": [
    {
     "data": {
      "text/plain": [
       "count     21352.000000\n",
       "mean      26795.979892\n",
       "std       15707.677373\n",
       "min        3306.762000\n",
       "25%       17223.821250\n",
       "50%       24291.744500\n",
       "75%       32397.307219\n",
       "max      362496.645000\n",
       "Name: total_income, dtype: float64"
      ]
     },
     "execution_count": 73,
     "metadata": {},
     "output_type": "execute_result"
    }
   ],
   "source": [
    "# Getting summary statistics for the column\n",
    "df['total_income'].describe()"
   ]
  },
  {
   "cell_type": "markdown",
   "id": "6b4304c9",
   "metadata": {},
   "source": [
    "**I decided to group the total income to 3 categories, based on the statistics that i got from using the describe() method (as you can see below)** "
   ]
  },
  {
   "cell_type": "code",
   "execution_count": 74,
   "id": "052ae643",
   "metadata": {},
   "outputs": [],
   "source": [
    "# Creating function for categorizing into different numerical groups based on ranges\n",
    "def income_category(income):\n",
    "        if income < 17224:\n",
    "            return 'bottom quarter'\n",
    "        if 17224 < income < 24292:\n",
    "            return 'third quarter'\n",
    "        if 24292 < income < 32398:\n",
    "            return 'second quarter'        \n",
    "        return 'first quarter'"
   ]
  },
  {
   "cell_type": "code",
   "execution_count": 75,
   "id": "f4f473ab",
   "metadata": {},
   "outputs": [
    {
     "data": {
      "text/plain": [
       "'first quarter'"
      ]
     },
     "execution_count": 75,
     "metadata": {},
     "output_type": "execute_result"
    }
   ],
   "source": [
    "check2 = df.loc[0]['total_income']\n",
    "income_category(check2)"
   ]
  },
  {
   "cell_type": "code",
   "execution_count": 76,
   "id": "438a49e2",
   "metadata": {},
   "outputs": [],
   "source": [
    "# Creating column with categories\n",
    "df['income_category'] = df['total_income'].apply(income_category)"
   ]
  },
  {
   "cell_type": "code",
   "execution_count": 77,
   "id": "124acd92",
   "metadata": {},
   "outputs": [
    {
     "data": {
      "text/plain": [
       "second quarter    5793\n",
       "third quarter     5339\n",
       "bottom quarter    5338\n",
       "first quarter     4882\n",
       "Name: income_category, dtype: int64"
      ]
     },
     "execution_count": 77,
     "metadata": {},
     "output_type": "execute_result"
    }
   ],
   "source": [
    "# Count each categories values to see the distribution\n",
    "df['income_category'].value_counts()"
   ]
  },
  {
   "cell_type": "markdown",
   "id": "b738fa26",
   "metadata": {},
   "source": [
    "## 5 Checking the Hypotheses\n"
   ]
  },
  {
   "cell_type": "code",
   "execution_count": 78,
   "id": "3ea6494b",
   "metadata": {},
   "outputs": [
    {
     "data": {
      "text/plain": [
       "0    12963\n",
       "1     4397\n",
       "2     1912\n",
       "3      301\n",
       "4       37\n",
       "5        9\n",
       "Name: children, dtype: int64"
      ]
     },
     "execution_count": 78,
     "metadata": {},
     "output_type": "execute_result"
    }
   ],
   "source": [
    "# Check the children data and paying back on time\n",
    "df[df['debt']==0]['children'].value_counts()"
   ]
  },
  {
   "cell_type": "code",
   "execution_count": 79,
   "id": "d2586d90",
   "metadata": {},
   "outputs": [
    {
     "data": {
      "text/plain": [
       "0    0.049550\n",
       "1    0.020701\n",
       "2    0.009460\n",
       "3    0.001265\n",
       "4    0.000187\n",
       "Name: children, dtype: float64"
      ]
     },
     "execution_count": 79,
     "metadata": {},
     "output_type": "execute_result"
    }
   ],
   "source": [
    "# Calculating default-rate based on the number of children\n",
    "df[df['debt']==1]['children'].value_counts()/len(df)"
   ]
  },
  {
   "cell_type": "markdown",
   "id": "8816517e",
   "metadata": {},
   "source": [
    "**Conclusion**\n",
    "\n",
    "according to the number of children there is a small correlation between having children and paying back on time.\n",
    "\n",
    "Relatively speaking, it seems that clients without children tend to default-rate more then clients who does have kids.\n"
   ]
  },
  {
   "cell_type": "code",
   "execution_count": 80,
   "id": "f6971eb1",
   "metadata": {},
   "outputs": [
    {
     "data": {
      "text/plain": [
       "married              11363\n",
       "civil partnership     3743\n",
       "unmarried             2521\n",
       "divorced              1100\n",
       "widow / widower        892\n",
       "Name: family_status, dtype: int64"
      ]
     },
     "execution_count": 80,
     "metadata": {},
     "output_type": "execute_result"
    }
   ],
   "source": [
    "# Check the family status data and paying back on time\n",
    "df[df['debt']==0]['family_status'].value_counts()"
   ]
  },
  {
   "cell_type": "code",
   "execution_count": 81,
   "id": "11a4cb13",
   "metadata": {},
   "outputs": [
    {
     "data": {
      "text/plain": [
       "married              0.043415\n",
       "civil partnership    0.018078\n",
       "unmarried            0.012786\n",
       "divorced             0.003981\n",
       "widow / widower      0.002904\n",
       "Name: family_status, dtype: float64"
      ]
     },
     "execution_count": 81,
     "metadata": {},
     "output_type": "execute_result"
    }
   ],
   "source": [
    "# Calculating default-rate based on family status\n",
    "df[df['debt']==1]['family_status'].value_counts()/len(df)"
   ]
  },
  {
   "cell_type": "markdown",
   "id": "6fbb447c",
   "metadata": {},
   "source": [
    "**Conclusion**\n",
    "\n",
    "according to the family status there is small correlation paying back on time.\n",
    "\n",
    "Relatively speaking, it seems that married clients tend to default-rate more then other clients.\n"
   ]
  },
  {
   "cell_type": "code",
   "execution_count": 82,
   "id": "488352ed",
   "metadata": {},
   "outputs": [
    {
     "data": {
      "text/plain": [
       "second quarter    5302\n",
       "bottom quarter    4913\n",
       "third quarter     4866\n",
       "first quarter     4538\n",
       "Name: income_category, dtype: int64"
      ]
     },
     "execution_count": 82,
     "metadata": {},
     "output_type": "execute_result"
    }
   ],
   "source": [
    "# Check the income level data and paying back on time\n",
    "df[df['debt']==0]['income_category'].value_counts()"
   ]
  },
  {
   "cell_type": "code",
   "execution_count": 83,
   "id": "d42d649e",
   "metadata": {},
   "outputs": [
    {
     "data": {
      "text/plain": [
       "second quarter    0.022996\n",
       "third quarter     0.022152\n",
       "bottom quarter    0.019904\n",
       "first quarter     0.016111\n",
       "Name: income_category, dtype: float64"
      ]
     },
     "execution_count": 83,
     "metadata": {},
     "output_type": "execute_result"
    }
   ],
   "source": [
    "df[df['debt']==1]['income_category'].value_counts()/len(df)"
   ]
  },
  {
   "cell_type": "markdown",
   "id": "e60afd19",
   "metadata": {},
   "source": [
    "**Conclusion**\n",
    "\n",
    "There is no pattern that points for correlation between income level and paying out on time."
   ]
  },
  {
   "cell_type": "code",
   "execution_count": 84,
   "id": "5c7403b1",
   "metadata": {},
   "outputs": [
    {
     "data": {
      "text/plain": [
       "housing      0.043181\n",
       "education    0.017329\n",
       "car          0.012036\n",
       "other        0.008617\n",
       "Name: purpose_category, dtype: float64"
      ]
     },
     "execution_count": 84,
     "metadata": {},
     "output_type": "execute_result"
    }
   ],
   "source": [
    "df[df['debt']==1]['purpose_category'].value_counts()/len(df)"
   ]
  },
  {
   "cell_type": "markdown",
   "id": "2118738e",
   "metadata": {},
   "source": [
    "**conclusion**\n",
    "\n",
    "according to the purpose category there is small correlation paying back on time.\n",
    "\n",
    "Relatively speaking, it seems that loans related to housing tend to default-rate more then other loans."
   ]
  },
  {
   "cell_type": "markdown",
   "id": "2a6bd15a",
   "metadata": {},
   "source": [
    "# General Conclusion \n",
    "At first we noticed for some technical issues that caused missing values and also an entire defective column (days_employed).\n",
    "\n",
    "We invastigate each column seperatley in order to find problematic data and fix it (replace or delete).\n",
    "\n",
    "After creating a nice and clean dataset we digged in further more to find correlation between different identified characteristics and paying the loans on time.\n",
    "\n",
    "**We found out marital status have in impact on returning the loan on time:\n",
    "clients how are not married tend to pay on time more then married clients.** \n",
    "\n",
    "**We found out that clients with children tend to pay on time more then clients without children**"
   ]
  }
 ],
 "metadata": {
  "ExecuteTimeLog": [
   {
    "duration": 980,
    "start_time": "2022-01-17T15:02:07.351Z"
   },
   {
    "duration": 10,
    "start_time": "2022-01-17T15:02:08.333Z"
   },
   {
    "duration": 16,
    "start_time": "2022-01-17T15:02:08.344Z"
   },
   {
    "duration": 28,
    "start_time": "2022-01-17T15:02:08.361Z"
   },
   {
    "duration": 37,
    "start_time": "2022-01-17T15:02:08.390Z"
   },
   {
    "duration": 18,
    "start_time": "2022-01-17T15:02:08.428Z"
   },
   {
    "duration": 5,
    "start_time": "2022-01-17T15:02:08.447Z"
   },
   {
    "duration": 7,
    "start_time": "2022-01-17T15:02:08.454Z"
   },
   {
    "duration": 10,
    "start_time": "2022-01-17T15:02:08.463Z"
   },
   {
    "duration": 40,
    "start_time": "2022-01-17T15:02:08.474Z"
   },
   {
    "duration": 8,
    "start_time": "2022-01-17T15:02:08.516Z"
   },
   {
    "duration": 14,
    "start_time": "2022-01-17T15:02:08.526Z"
   },
   {
    "duration": 9,
    "start_time": "2022-01-17T15:02:08.542Z"
   },
   {
    "duration": 6,
    "start_time": "2022-01-17T15:02:08.552Z"
   },
   {
    "duration": 5,
    "start_time": "2022-01-17T15:02:08.559Z"
   },
   {
    "duration": 5,
    "start_time": "2022-01-17T15:02:08.565Z"
   },
   {
    "duration": 3,
    "start_time": "2022-01-17T15:02:08.571Z"
   },
   {
    "duration": 5,
    "start_time": "2022-01-17T15:02:08.575Z"
   },
   {
    "duration": 34,
    "start_time": "2022-01-17T15:02:08.582Z"
   },
   {
    "duration": 6,
    "start_time": "2022-01-17T15:02:08.618Z"
   },
   {
    "duration": 2,
    "start_time": "2022-01-17T15:02:08.626Z"
   },
   {
    "duration": 5,
    "start_time": "2022-01-17T15:02:08.630Z"
   },
   {
    "duration": 8,
    "start_time": "2022-01-17T15:02:08.638Z"
   },
   {
    "duration": 5,
    "start_time": "2022-01-17T15:02:08.648Z"
   },
   {
    "duration": 8,
    "start_time": "2022-01-17T15:02:08.655Z"
   },
   {
    "duration": 4,
    "start_time": "2022-01-17T15:02:08.665Z"
   },
   {
    "duration": 42,
    "start_time": "2022-01-17T15:02:08.670Z"
   },
   {
    "duration": 5,
    "start_time": "2022-01-17T15:02:08.714Z"
   },
   {
    "duration": 14,
    "start_time": "2022-01-17T15:02:08.720Z"
   },
   {
    "duration": 8,
    "start_time": "2022-01-17T15:02:08.735Z"
   },
   {
    "duration": 7,
    "start_time": "2022-01-17T15:02:08.744Z"
   },
   {
    "duration": 6,
    "start_time": "2022-01-17T15:02:08.753Z"
   },
   {
    "duration": 14,
    "start_time": "2022-01-17T15:02:08.761Z"
   },
   {
    "duration": 38,
    "start_time": "2022-01-17T15:02:08.776Z"
   },
   {
    "duration": 12,
    "start_time": "2022-01-17T15:02:08.815Z"
   },
   {
    "duration": 8,
    "start_time": "2022-01-17T15:02:08.828Z"
   },
   {
    "duration": 3,
    "start_time": "2022-01-17T15:02:08.837Z"
   },
   {
    "duration": 6,
    "start_time": "2022-01-17T15:02:08.841Z"
   },
   {
    "duration": 7,
    "start_time": "2022-01-17T15:02:08.849Z"
   },
   {
    "duration": 6,
    "start_time": "2022-01-17T15:02:08.857Z"
   },
   {
    "duration": 15,
    "start_time": "2022-01-17T15:02:08.864Z"
   },
   {
    "duration": 37,
    "start_time": "2022-01-17T15:02:08.880Z"
   },
   {
    "duration": 13,
    "start_time": "2022-01-17T15:02:08.918Z"
   },
   {
    "duration": 5,
    "start_time": "2022-01-17T15:02:08.932Z"
   },
   {
    "duration": 4,
    "start_time": "2022-01-17T15:02:08.938Z"
   },
   {
    "duration": 6,
    "start_time": "2022-01-17T15:02:08.943Z"
   },
   {
    "duration": 6,
    "start_time": "2022-01-17T15:02:08.951Z"
   },
   {
    "duration": 6,
    "start_time": "2022-01-17T15:02:08.958Z"
   },
   {
    "duration": 17,
    "start_time": "2022-01-17T15:02:08.966Z"
   },
   {
    "duration": 43,
    "start_time": "2022-01-17T15:02:08.984Z"
   },
   {
    "duration": 4,
    "start_time": "2022-01-17T15:02:09.028Z"
   },
   {
    "duration": 11,
    "start_time": "2022-01-17T15:02:09.033Z"
   },
   {
    "duration": 3,
    "start_time": "2022-01-17T15:02:09.045Z"
   },
   {
    "duration": 4,
    "start_time": "2022-01-17T15:02:09.050Z"
   },
   {
    "duration": 5,
    "start_time": "2022-01-17T15:02:09.056Z"
   },
   {
    "duration": 6,
    "start_time": "2022-01-17T15:02:09.063Z"
   },
   {
    "duration": 42,
    "start_time": "2022-01-17T15:02:09.070Z"
   },
   {
    "duration": 519,
    "start_time": "2022-01-17T15:02:09.113Z"
   },
   {
    "duration": 1112,
    "start_time": "2022-01-17T15:02:09.633Z"
   },
   {
    "duration": 4,
    "start_time": "2022-01-17T15:02:10.747Z"
   },
   {
    "duration": 6,
    "start_time": "2022-01-17T15:02:10.752Z"
   },
   {
    "duration": 3,
    "start_time": "2022-01-17T15:02:10.759Z"
   },
   {
    "duration": 4,
    "start_time": "2022-01-17T15:02:10.764Z"
   },
   {
    "duration": 6,
    "start_time": "2022-01-17T15:02:10.770Z"
   },
   {
    "duration": 4,
    "start_time": "2022-01-17T15:02:10.778Z"
   },
   {
    "duration": 4,
    "start_time": "2022-01-17T15:02:10.784Z"
   },
   {
    "duration": 1614,
    "start_time": "2022-01-17T15:02:10.789Z"
   },
   {
    "duration": 11,
    "start_time": "2022-01-17T15:02:12.407Z"
   },
   {
    "duration": 7,
    "start_time": "2022-01-17T15:02:12.420Z"
   },
   {
    "duration": 11,
    "start_time": "2022-01-17T15:02:12.428Z"
   },
   {
    "duration": 8,
    "start_time": "2022-01-17T15:02:12.440Z"
   },
   {
    "duration": 3,
    "start_time": "2022-01-17T15:02:12.449Z"
   },
   {
    "duration": 8,
    "start_time": "2022-01-17T15:02:12.453Z"
   },
   {
    "duration": 8,
    "start_time": "2022-01-17T15:02:12.462Z"
   },
   {
    "duration": 8,
    "start_time": "2022-01-17T15:02:12.471Z"
   },
   {
    "duration": 38,
    "start_time": "2022-01-17T15:02:12.480Z"
   },
   {
    "duration": 6,
    "start_time": "2022-01-17T15:02:12.519Z"
   },
   {
    "duration": 8,
    "start_time": "2022-01-17T15:02:12.526Z"
   },
   {
    "duration": 6,
    "start_time": "2022-01-17T15:02:12.535Z"
   },
   {
    "duration": 10,
    "start_time": "2022-01-17T15:02:12.542Z"
   },
   {
    "duration": 7,
    "start_time": "2022-01-17T15:02:12.553Z"
   },
   {
    "duration": 6,
    "start_time": "2022-01-17T15:02:12.561Z"
   },
   {
    "duration": 793,
    "start_time": "2022-01-17T15:56:10.303Z"
   },
   {
    "duration": 10,
    "start_time": "2022-01-17T15:56:11.097Z"
   },
   {
    "duration": 15,
    "start_time": "2022-01-17T15:56:11.109Z"
   },
   {
    "duration": 29,
    "start_time": "2022-01-17T15:56:11.125Z"
   },
   {
    "duration": 18,
    "start_time": "2022-01-17T15:56:11.156Z"
   },
   {
    "duration": 38,
    "start_time": "2022-01-17T15:56:11.175Z"
   },
   {
    "duration": 4,
    "start_time": "2022-01-17T15:56:11.215Z"
   },
   {
    "duration": 6,
    "start_time": "2022-01-17T15:56:11.221Z"
   },
   {
    "duration": 6,
    "start_time": "2022-01-17T15:56:11.229Z"
   },
   {
    "duration": 5,
    "start_time": "2022-01-17T15:56:11.237Z"
   },
   {
    "duration": 8,
    "start_time": "2022-01-17T15:56:11.244Z"
   },
   {
    "duration": 6,
    "start_time": "2022-01-17T15:56:11.253Z"
   },
   {
    "duration": 11,
    "start_time": "2022-01-17T15:56:11.260Z"
   },
   {
    "duration": 41,
    "start_time": "2022-01-17T15:56:11.272Z"
   },
   {
    "duration": 5,
    "start_time": "2022-01-17T15:56:11.314Z"
   },
   {
    "duration": 6,
    "start_time": "2022-01-17T15:56:11.320Z"
   },
   {
    "duration": 4,
    "start_time": "2022-01-17T15:56:11.327Z"
   },
   {
    "duration": 5,
    "start_time": "2022-01-17T15:56:11.332Z"
   },
   {
    "duration": 6,
    "start_time": "2022-01-17T15:56:11.339Z"
   },
   {
    "duration": 7,
    "start_time": "2022-01-17T15:56:11.346Z"
   },
   {
    "duration": 3,
    "start_time": "2022-01-17T15:56:11.354Z"
   },
   {
    "duration": 6,
    "start_time": "2022-01-17T15:56:11.358Z"
   },
   {
    "duration": 7,
    "start_time": "2022-01-17T15:56:11.411Z"
   },
   {
    "duration": 5,
    "start_time": "2022-01-17T15:56:11.421Z"
   },
   {
    "duration": 7,
    "start_time": "2022-01-17T15:56:11.428Z"
   },
   {
    "duration": 4,
    "start_time": "2022-01-17T15:56:11.436Z"
   },
   {
    "duration": 7,
    "start_time": "2022-01-17T15:56:11.441Z"
   },
   {
    "duration": 8,
    "start_time": "2022-01-17T15:56:11.449Z"
   },
   {
    "duration": 12,
    "start_time": "2022-01-17T15:56:11.458Z"
   },
   {
    "duration": 7,
    "start_time": "2022-01-17T15:56:11.472Z"
   },
   {
    "duration": 36,
    "start_time": "2022-01-17T15:56:11.480Z"
   },
   {
    "duration": 8,
    "start_time": "2022-01-17T15:56:11.518Z"
   },
   {
    "duration": 15,
    "start_time": "2022-01-17T15:56:11.527Z"
   },
   {
    "duration": 14,
    "start_time": "2022-01-17T15:56:11.544Z"
   },
   {
    "duration": 13,
    "start_time": "2022-01-17T15:56:11.559Z"
   },
   {
    "duration": 9,
    "start_time": "2022-01-17T15:56:11.573Z"
   },
   {
    "duration": 2,
    "start_time": "2022-01-17T15:56:11.612Z"
   },
   {
    "duration": 5,
    "start_time": "2022-01-17T15:56:11.616Z"
   },
   {
    "duration": 7,
    "start_time": "2022-01-17T15:56:11.623Z"
   },
   {
    "duration": 8,
    "start_time": "2022-01-17T15:56:11.632Z"
   },
   {
    "duration": 14,
    "start_time": "2022-01-17T15:56:11.641Z"
   },
   {
    "duration": 7,
    "start_time": "2022-01-17T15:56:11.656Z"
   },
   {
    "duration": 14,
    "start_time": "2022-01-17T15:56:11.664Z"
   },
   {
    "duration": 36,
    "start_time": "2022-01-17T15:56:11.680Z"
   },
   {
    "duration": 5,
    "start_time": "2022-01-17T15:56:11.717Z"
   },
   {
    "duration": 6,
    "start_time": "2022-01-17T15:56:11.723Z"
   },
   {
    "duration": 6,
    "start_time": "2022-01-17T15:56:11.730Z"
   },
   {
    "duration": 3,
    "start_time": "2022-01-17T15:56:11.738Z"
   },
   {
    "duration": 12,
    "start_time": "2022-01-17T15:56:11.742Z"
   },
   {
    "duration": 58,
    "start_time": "2022-01-17T15:56:11.755Z"
   },
   {
    "duration": 5,
    "start_time": "2022-01-17T15:56:11.815Z"
   },
   {
    "duration": 13,
    "start_time": "2022-01-17T15:56:11.821Z"
   },
   {
    "duration": 2,
    "start_time": "2022-01-17T15:56:11.836Z"
   },
   {
    "duration": 4,
    "start_time": "2022-01-17T15:56:11.840Z"
   },
   {
    "duration": 6,
    "start_time": "2022-01-17T15:56:11.846Z"
   },
   {
    "duration": 6,
    "start_time": "2022-01-17T15:56:11.853Z"
   },
   {
    "duration": 3,
    "start_time": "2022-01-17T15:56:11.860Z"
   },
   {
    "duration": 574,
    "start_time": "2022-01-17T15:56:11.864Z"
   },
   {
    "duration": 1134,
    "start_time": "2022-01-17T15:56:12.439Z"
   },
   {
    "duration": 5,
    "start_time": "2022-01-17T15:56:13.574Z"
   },
   {
    "duration": 10,
    "start_time": "2022-01-17T15:56:13.580Z"
   },
   {
    "duration": 6,
    "start_time": "2022-01-17T15:56:13.591Z"
   },
   {
    "duration": 3,
    "start_time": "2022-01-17T15:56:13.599Z"
   },
   {
    "duration": 9,
    "start_time": "2022-01-17T15:56:13.604Z"
   },
   {
    "duration": 14,
    "start_time": "2022-01-17T15:56:13.614Z"
   },
   {
    "duration": 5,
    "start_time": "2022-01-17T15:56:13.629Z"
   },
   {
    "duration": 1597,
    "start_time": "2022-01-17T15:56:13.635Z"
   },
   {
    "duration": 9,
    "start_time": "2022-01-17T15:56:15.236Z"
   },
   {
    "duration": 8,
    "start_time": "2022-01-17T15:56:15.246Z"
   },
   {
    "duration": 6,
    "start_time": "2022-01-17T15:56:15.255Z"
   },
   {
    "duration": 8,
    "start_time": "2022-01-17T15:56:15.263Z"
   },
   {
    "duration": 3,
    "start_time": "2022-01-17T15:56:15.272Z"
   },
   {
    "duration": 37,
    "start_time": "2022-01-17T15:56:15.276Z"
   },
   {
    "duration": 9,
    "start_time": "2022-01-17T15:56:15.314Z"
   },
   {
    "duration": 8,
    "start_time": "2022-01-17T15:56:15.324Z"
   },
   {
    "duration": 13,
    "start_time": "2022-01-17T15:56:15.334Z"
   },
   {
    "duration": 6,
    "start_time": "2022-01-17T15:56:15.348Z"
   },
   {
    "duration": 9,
    "start_time": "2022-01-17T15:56:15.356Z"
   },
   {
    "duration": 7,
    "start_time": "2022-01-17T15:56:15.366Z"
   },
   {
    "duration": 42,
    "start_time": "2022-01-17T15:56:15.374Z"
   },
   {
    "duration": 7,
    "start_time": "2022-01-17T15:56:15.417Z"
   },
   {
    "duration": 8,
    "start_time": "2022-01-17T15:56:15.425Z"
   },
   {
    "duration": 850,
    "start_time": "2022-01-17T15:56:24.811Z"
   },
   {
    "duration": 10,
    "start_time": "2022-01-17T15:56:25.662Z"
   },
   {
    "duration": 16,
    "start_time": "2022-01-17T15:56:25.673Z"
   },
   {
    "duration": 29,
    "start_time": "2022-01-17T15:56:25.690Z"
   },
   {
    "duration": 18,
    "start_time": "2022-01-17T15:56:25.721Z"
   },
   {
    "duration": 20,
    "start_time": "2022-01-17T15:56:25.741Z"
   },
   {
    "duration": 6,
    "start_time": "2022-01-17T15:56:25.762Z"
   },
   {
    "duration": 7,
    "start_time": "2022-01-17T15:56:25.771Z"
   },
   {
    "duration": 8,
    "start_time": "2022-01-17T15:56:25.813Z"
   },
   {
    "duration": 6,
    "start_time": "2022-01-17T15:56:25.822Z"
   },
   {
    "duration": 7,
    "start_time": "2022-01-17T15:56:25.830Z"
   },
   {
    "duration": 5,
    "start_time": "2022-01-17T15:56:25.838Z"
   },
   {
    "duration": 10,
    "start_time": "2022-01-17T15:56:25.845Z"
   },
   {
    "duration": 6,
    "start_time": "2022-01-17T15:56:25.856Z"
   },
   {
    "duration": 4,
    "start_time": "2022-01-17T15:56:25.864Z"
   },
   {
    "duration": 46,
    "start_time": "2022-01-17T15:56:25.870Z"
   },
   {
    "duration": 5,
    "start_time": "2022-01-17T15:56:25.918Z"
   },
   {
    "duration": 7,
    "start_time": "2022-01-17T15:56:25.925Z"
   },
   {
    "duration": 9,
    "start_time": "2022-01-17T15:56:25.934Z"
   },
   {
    "duration": 7,
    "start_time": "2022-01-17T15:56:25.944Z"
   },
   {
    "duration": 3,
    "start_time": "2022-01-17T15:56:25.954Z"
   },
   {
    "duration": 7,
    "start_time": "2022-01-17T15:56:25.958Z"
   },
   {
    "duration": 45,
    "start_time": "2022-01-17T15:56:25.970Z"
   },
   {
    "duration": 6,
    "start_time": "2022-01-17T15:56:26.017Z"
   },
   {
    "duration": 7,
    "start_time": "2022-01-17T15:56:26.025Z"
   },
   {
    "duration": 4,
    "start_time": "2022-01-17T15:56:26.033Z"
   },
   {
    "duration": 8,
    "start_time": "2022-01-17T15:56:26.038Z"
   },
   {
    "duration": 6,
    "start_time": "2022-01-17T15:56:26.047Z"
   },
   {
    "duration": 11,
    "start_time": "2022-01-17T15:56:26.055Z"
   },
   {
    "duration": 8,
    "start_time": "2022-01-17T15:56:26.067Z"
   },
   {
    "duration": 38,
    "start_time": "2022-01-17T15:56:26.077Z"
   },
   {
    "duration": 6,
    "start_time": "2022-01-17T15:56:26.117Z"
   },
   {
    "duration": 14,
    "start_time": "2022-01-17T15:56:26.125Z"
   },
   {
    "duration": 16,
    "start_time": "2022-01-17T15:56:26.141Z"
   },
   {
    "duration": 13,
    "start_time": "2022-01-17T15:56:26.158Z"
   },
   {
    "duration": 9,
    "start_time": "2022-01-17T15:56:26.172Z"
   },
   {
    "duration": 3,
    "start_time": "2022-01-17T15:56:26.212Z"
   },
   {
    "duration": 6,
    "start_time": "2022-01-17T15:56:26.216Z"
   },
   {
    "duration": 9,
    "start_time": "2022-01-17T15:56:26.223Z"
   },
   {
    "duration": 9,
    "start_time": "2022-01-17T15:56:26.234Z"
   },
   {
    "duration": 14,
    "start_time": "2022-01-17T15:56:26.244Z"
   },
   {
    "duration": 7,
    "start_time": "2022-01-17T15:56:26.259Z"
   },
   {
    "duration": 13,
    "start_time": "2022-01-17T15:56:26.268Z"
   },
   {
    "duration": 36,
    "start_time": "2022-01-17T15:56:26.283Z"
   },
   {
    "duration": 5,
    "start_time": "2022-01-17T15:56:26.321Z"
   },
   {
    "duration": 13,
    "start_time": "2022-01-17T15:56:26.328Z"
   },
   {
    "duration": 10,
    "start_time": "2022-01-17T15:56:26.342Z"
   },
   {
    "duration": 3,
    "start_time": "2022-01-17T15:56:26.354Z"
   },
   {
    "duration": 14,
    "start_time": "2022-01-17T15:56:26.359Z"
   },
   {
    "duration": 52,
    "start_time": "2022-01-17T15:56:26.375Z"
   },
   {
    "duration": 4,
    "start_time": "2022-01-17T15:56:26.428Z"
   },
   {
    "duration": 11,
    "start_time": "2022-01-17T15:56:26.434Z"
   },
   {
    "duration": 2,
    "start_time": "2022-01-17T15:56:26.447Z"
   },
   {
    "duration": 5,
    "start_time": "2022-01-17T15:56:26.450Z"
   },
   {
    "duration": 5,
    "start_time": "2022-01-17T15:56:26.457Z"
   },
   {
    "duration": 5,
    "start_time": "2022-01-17T15:56:26.463Z"
   },
   {
    "duration": 2,
    "start_time": "2022-01-17T15:56:26.470Z"
   },
   {
    "duration": 564,
    "start_time": "2022-01-17T15:56:26.473Z"
   },
   {
    "duration": 1215,
    "start_time": "2022-01-17T15:56:27.038Z"
   },
   {
    "duration": 5,
    "start_time": "2022-01-17T15:56:28.254Z"
   },
   {
    "duration": 6,
    "start_time": "2022-01-17T15:56:28.260Z"
   },
   {
    "duration": 4,
    "start_time": "2022-01-17T15:56:28.268Z"
   },
   {
    "duration": 4,
    "start_time": "2022-01-17T15:56:28.273Z"
   },
   {
    "duration": 5,
    "start_time": "2022-01-17T15:56:28.278Z"
   },
   {
    "duration": 4,
    "start_time": "2022-01-17T15:56:28.285Z"
   },
   {
    "duration": 3,
    "start_time": "2022-01-17T15:56:28.312Z"
   },
   {
    "duration": 1607,
    "start_time": "2022-01-17T15:56:28.316Z"
   },
   {
    "duration": 9,
    "start_time": "2022-01-17T15:56:29.927Z"
   },
   {
    "duration": 7,
    "start_time": "2022-01-17T15:56:29.938Z"
   },
   {
    "duration": 6,
    "start_time": "2022-01-17T15:56:29.946Z"
   },
   {
    "duration": 7,
    "start_time": "2022-01-17T15:56:29.953Z"
   },
   {
    "duration": 2,
    "start_time": "2022-01-17T15:56:29.962Z"
   },
   {
    "duration": 13,
    "start_time": "2022-01-17T15:56:29.966Z"
   },
   {
    "duration": 41,
    "start_time": "2022-01-17T15:56:29.981Z"
   },
   {
    "duration": 13,
    "start_time": "2022-01-17T15:56:30.024Z"
   },
   {
    "duration": 15,
    "start_time": "2022-01-17T15:56:30.039Z"
   },
   {
    "duration": 8,
    "start_time": "2022-01-17T15:56:30.055Z"
   },
   {
    "duration": 14,
    "start_time": "2022-01-17T15:56:30.065Z"
   },
   {
    "duration": 36,
    "start_time": "2022-01-17T15:56:30.081Z"
   },
   {
    "duration": 10,
    "start_time": "2022-01-17T15:56:30.119Z"
   },
   {
    "duration": 7,
    "start_time": "2022-01-17T15:56:30.130Z"
   },
   {
    "duration": 13,
    "start_time": "2022-01-17T15:56:30.138Z"
   },
   {
    "duration": 86,
    "start_time": "2022-01-17T16:18:50.196Z"
   },
   {
    "duration": 6,
    "start_time": "2022-01-17T16:18:53.812Z"
   },
   {
    "duration": 20,
    "start_time": "2022-01-17T16:20:02.091Z"
   },
   {
    "duration": 7,
    "start_time": "2022-01-17T16:20:36.116Z"
   },
   {
    "duration": 8,
    "start_time": "2022-01-17T16:20:37.298Z"
   },
   {
    "duration": 22,
    "start_time": "2022-01-17T16:22:55.481Z"
   },
   {
    "duration": 204,
    "start_time": "2022-01-17T16:26:41.523Z"
   },
   {
    "duration": 9,
    "start_time": "2022-01-17T16:26:41.728Z"
   },
   {
    "duration": 11,
    "start_time": "2022-01-17T16:26:41.739Z"
   },
   {
    "duration": 29,
    "start_time": "2022-01-17T16:26:41.752Z"
   },
   {
    "duration": 41,
    "start_time": "2022-01-17T16:26:41.783Z"
   },
   {
    "duration": 19,
    "start_time": "2022-01-17T16:26:41.825Z"
   },
   {
    "duration": 5,
    "start_time": "2022-01-17T16:26:41.846Z"
   },
   {
    "duration": 6,
    "start_time": "2022-01-17T16:26:41.854Z"
   },
   {
    "duration": 7,
    "start_time": "2022-01-17T16:26:41.862Z"
   },
   {
    "duration": 6,
    "start_time": "2022-01-17T16:26:41.871Z"
   },
   {
    "duration": 41,
    "start_time": "2022-01-17T16:26:41.878Z"
   },
   {
    "duration": 7,
    "start_time": "2022-01-17T16:26:41.921Z"
   },
   {
    "duration": 9,
    "start_time": "2022-01-17T16:26:41.929Z"
   },
   {
    "duration": 7,
    "start_time": "2022-01-17T16:26:41.939Z"
   },
   {
    "duration": 4,
    "start_time": "2022-01-17T16:26:41.947Z"
   },
   {
    "duration": 5,
    "start_time": "2022-01-17T16:26:41.953Z"
   },
   {
    "duration": 9,
    "start_time": "2022-01-17T16:26:41.960Z"
   },
   {
    "duration": 20,
    "start_time": "2022-01-17T16:26:41.970Z"
   },
   {
    "duration": 22,
    "start_time": "2022-01-17T16:26:41.991Z"
   },
   {
    "duration": 6,
    "start_time": "2022-01-17T16:26:42.015Z"
   },
   {
    "duration": 3,
    "start_time": "2022-01-17T16:26:42.022Z"
   },
   {
    "duration": 6,
    "start_time": "2022-01-17T16:26:42.026Z"
   },
   {
    "duration": 6,
    "start_time": "2022-01-17T16:26:42.034Z"
   },
   {
    "duration": 6,
    "start_time": "2022-01-17T16:26:42.042Z"
   },
   {
    "duration": 5,
    "start_time": "2022-01-17T16:26:42.049Z"
   },
   {
    "duration": 5,
    "start_time": "2022-01-17T16:26:42.056Z"
   },
   {
    "duration": 8,
    "start_time": "2022-01-17T16:26:42.062Z"
   },
   {
    "duration": 45,
    "start_time": "2022-01-17T16:26:42.072Z"
   },
   {
    "duration": 13,
    "start_time": "2022-01-17T16:26:42.119Z"
   },
   {
    "duration": 7,
    "start_time": "2022-01-17T16:26:42.134Z"
   },
   {
    "duration": 6,
    "start_time": "2022-01-17T16:26:42.142Z"
   },
   {
    "duration": 7,
    "start_time": "2022-01-17T16:26:42.149Z"
   },
   {
    "duration": 15,
    "start_time": "2022-01-17T16:26:42.157Z"
   },
   {
    "duration": 43,
    "start_time": "2022-01-17T16:26:42.173Z"
   },
   {
    "duration": 13,
    "start_time": "2022-01-17T16:26:42.217Z"
   },
   {
    "duration": 8,
    "start_time": "2022-01-17T16:26:42.231Z"
   },
   {
    "duration": 3,
    "start_time": "2022-01-17T16:26:42.241Z"
   },
   {
    "duration": 7,
    "start_time": "2022-01-17T16:26:42.245Z"
   },
   {
    "duration": 9,
    "start_time": "2022-01-17T16:26:42.253Z"
   },
   {
    "duration": 8,
    "start_time": "2022-01-17T16:26:42.263Z"
   },
   {
    "duration": 40,
    "start_time": "2022-01-17T16:26:42.272Z"
   },
   {
    "duration": 7,
    "start_time": "2022-01-17T16:26:42.314Z"
   },
   {
    "duration": 17,
    "start_time": "2022-01-17T16:26:42.323Z"
   },
   {
    "duration": 6,
    "start_time": "2022-01-17T16:26:42.341Z"
   },
   {
    "duration": 5,
    "start_time": "2022-01-17T16:26:42.348Z"
   },
   {
    "duration": 6,
    "start_time": "2022-01-17T16:26:42.354Z"
   },
   {
    "duration": 5,
    "start_time": "2022-01-17T16:26:42.361Z"
   },
   {
    "duration": 4,
    "start_time": "2022-01-17T16:26:42.367Z"
   },
   {
    "duration": 46,
    "start_time": "2022-01-17T16:26:42.372Z"
   },
   {
    "duration": 21,
    "start_time": "2022-01-17T16:26:44.964Z"
   },
   {
    "duration": 24,
    "start_time": "2022-01-17T16:37:40.982Z"
   },
   {
    "duration": 98,
    "start_time": "2022-01-23T08:31:36.940Z"
   },
   {
    "duration": 326,
    "start_time": "2022-01-23T08:31:47.716Z"
   },
   {
    "duration": 929,
    "start_time": "2022-01-23T08:31:57.246Z"
   },
   {
    "duration": 13,
    "start_time": "2022-01-23T08:31:58.178Z"
   },
   {
    "duration": 30,
    "start_time": "2022-01-23T08:31:58.195Z"
   },
   {
    "duration": 55,
    "start_time": "2022-01-23T08:31:58.229Z"
   },
   {
    "duration": 60,
    "start_time": "2022-01-23T08:31:58.287Z"
   },
   {
    "duration": 33,
    "start_time": "2022-01-23T08:31:58.350Z"
   },
   {
    "duration": 7,
    "start_time": "2022-01-23T08:31:58.385Z"
   },
   {
    "duration": 9,
    "start_time": "2022-01-23T08:31:58.423Z"
   },
   {
    "duration": 14,
    "start_time": "2022-01-23T08:31:58.435Z"
   },
   {
    "duration": 8,
    "start_time": "2022-01-23T08:31:58.452Z"
   },
   {
    "duration": 10,
    "start_time": "2022-01-23T08:31:58.462Z"
   },
   {
    "duration": 8,
    "start_time": "2022-01-23T08:31:58.474Z"
   },
   {
    "duration": 58,
    "start_time": "2022-01-23T08:31:58.483Z"
   },
   {
    "duration": 18,
    "start_time": "2022-01-23T08:31:58.543Z"
   },
   {
    "duration": 8,
    "start_time": "2022-01-23T08:31:58.564Z"
   },
   {
    "duration": 11,
    "start_time": "2022-01-23T08:31:58.575Z"
   },
   {
    "duration": 37,
    "start_time": "2022-01-23T08:31:58.589Z"
   },
   {
    "duration": 10,
    "start_time": "2022-01-23T08:31:58.629Z"
   },
   {
    "duration": 27,
    "start_time": "2022-01-23T08:31:58.641Z"
   },
   {
    "duration": 13,
    "start_time": "2022-01-23T08:31:58.670Z"
   },
   {
    "duration": 6,
    "start_time": "2022-01-23T08:31:58.686Z"
   },
   {
    "duration": 15,
    "start_time": "2022-01-23T08:31:58.693Z"
   },
   {
    "duration": 9,
    "start_time": "2022-01-23T08:31:58.725Z"
   },
   {
    "duration": 8,
    "start_time": "2022-01-23T08:31:58.738Z"
   },
   {
    "duration": 14,
    "start_time": "2022-01-23T08:31:58.748Z"
   },
   {
    "duration": 7,
    "start_time": "2022-01-23T08:31:58.764Z"
   },
   {
    "duration": 15,
    "start_time": "2022-01-23T08:31:58.773Z"
   },
   {
    "duration": 38,
    "start_time": "2022-01-23T08:31:58.791Z"
   },
   {
    "duration": 24,
    "start_time": "2022-01-23T08:31:58.832Z"
   },
   {
    "duration": 10,
    "start_time": "2022-01-23T08:31:58.859Z"
   },
   {
    "duration": 8,
    "start_time": "2022-01-23T08:31:58.871Z"
   },
   {
    "duration": 19,
    "start_time": "2022-01-23T08:31:58.881Z"
   },
   {
    "duration": 39,
    "start_time": "2022-01-23T08:31:58.902Z"
   },
   {
    "duration": 22,
    "start_time": "2022-01-23T08:31:58.943Z"
   },
   {
    "duration": 20,
    "start_time": "2022-01-23T08:31:58.968Z"
   },
   {
    "duration": 40,
    "start_time": "2022-01-23T08:31:58.990Z"
   },
   {
    "duration": 4,
    "start_time": "2022-01-23T08:31:59.033Z"
   },
   {
    "duration": 11,
    "start_time": "2022-01-23T08:31:59.038Z"
   },
   {
    "duration": 14,
    "start_time": "2022-01-23T08:31:59.051Z"
   },
   {
    "duration": 11,
    "start_time": "2022-01-23T08:31:59.067Z"
   },
   {
    "duration": 50,
    "start_time": "2022-01-23T08:31:59.080Z"
   },
   {
    "duration": 11,
    "start_time": "2022-01-23T08:31:59.132Z"
   },
   {
    "duration": 22,
    "start_time": "2022-01-23T08:31:59.145Z"
   },
   {
    "duration": 8,
    "start_time": "2022-01-23T08:31:59.169Z"
   },
   {
    "duration": 6,
    "start_time": "2022-01-23T08:31:59.179Z"
   },
   {
    "duration": 37,
    "start_time": "2022-01-23T08:31:59.187Z"
   },
   {
    "duration": 18,
    "start_time": "2022-01-23T08:31:59.226Z"
   },
   {
    "duration": 15,
    "start_time": "2022-01-23T08:31:59.246Z"
   },
   {
    "duration": 24,
    "start_time": "2022-01-23T08:31:59.263Z"
   },
   {
    "duration": 43,
    "start_time": "2022-01-23T08:31:59.288Z"
   },
   {
    "duration": 6,
    "start_time": "2022-01-23T08:31:59.334Z"
   },
   {
    "duration": 21,
    "start_time": "2022-01-23T08:31:59.341Z"
   },
   {
    "duration": 14,
    "start_time": "2022-01-23T08:31:59.364Z"
   },
   {
    "duration": 18,
    "start_time": "2022-01-23T08:31:59.380Z"
   },
   {
    "duration": 10,
    "start_time": "2022-01-23T08:31:59.400Z"
   },
   {
    "duration": 16,
    "start_time": "2022-01-23T08:31:59.412Z"
   },
   {
    "duration": 3,
    "start_time": "2022-01-23T08:31:59.430Z"
   },
   {
    "duration": 714,
    "start_time": "2022-01-23T08:31:59.435Z"
   },
   {
    "duration": 1826,
    "start_time": "2022-01-23T08:32:00.152Z"
   },
   {
    "duration": 7,
    "start_time": "2022-01-23T08:32:01.980Z"
   },
   {
    "duration": 13,
    "start_time": "2022-01-23T08:32:01.989Z"
   },
   {
    "duration": 6,
    "start_time": "2022-01-23T08:32:02.004Z"
   },
   {
    "duration": 14,
    "start_time": "2022-01-23T08:32:02.025Z"
   },
   {
    "duration": 6,
    "start_time": "2022-01-23T08:32:02.041Z"
   },
   {
    "duration": 7,
    "start_time": "2022-01-23T08:32:02.049Z"
   },
   {
    "duration": 13,
    "start_time": "2022-01-23T08:32:02.058Z"
   },
   {
    "duration": 2762,
    "start_time": "2022-01-23T08:32:02.073Z"
   },
   {
    "duration": 12,
    "start_time": "2022-01-23T08:32:04.843Z"
   },
   {
    "duration": 12,
    "start_time": "2022-01-23T08:32:04.857Z"
   },
   {
    "duration": 8,
    "start_time": "2022-01-23T08:32:04.871Z"
   },
   {
    "duration": 43,
    "start_time": "2022-01-23T08:32:04.881Z"
   },
   {
    "duration": 4,
    "start_time": "2022-01-23T08:32:04.927Z"
   },
   {
    "duration": 12,
    "start_time": "2022-01-23T08:32:04.934Z"
   },
   {
    "duration": 13,
    "start_time": "2022-01-23T08:32:04.948Z"
   },
   {
    "duration": 14,
    "start_time": "2022-01-23T08:32:04.963Z"
   },
   {
    "duration": 56,
    "start_time": "2022-01-23T08:32:04.980Z"
   },
   {
    "duration": 12,
    "start_time": "2022-01-23T08:32:05.038Z"
   },
   {
    "duration": 20,
    "start_time": "2022-01-23T08:32:05.053Z"
   },
   {
    "duration": 46,
    "start_time": "2022-01-23T08:32:05.076Z"
   },
   {
    "duration": 15,
    "start_time": "2022-01-23T08:32:05.125Z"
   },
   {
    "duration": 11,
    "start_time": "2022-01-23T08:32:05.143Z"
   },
   {
    "duration": 12,
    "start_time": "2022-01-23T08:32:05.157Z"
   },
   {
    "duration": 10,
    "start_time": "2022-01-23T08:34:05.674Z"
   },
   {
    "duration": 10,
    "start_time": "2022-01-23T09:21:13.165Z"
   },
   {
    "duration": 9,
    "start_time": "2022-01-23T09:21:37.005Z"
   },
   {
    "duration": 1232,
    "start_time": "2022-01-23T12:34:20.698Z"
   },
   {
    "duration": 10,
    "start_time": "2022-01-23T12:34:21.931Z"
   },
   {
    "duration": 15,
    "start_time": "2022-01-23T12:34:21.943Z"
   },
   {
    "duration": 30,
    "start_time": "2022-01-23T12:34:21.959Z"
   },
   {
    "duration": 47,
    "start_time": "2022-01-23T12:34:21.991Z"
   },
   {
    "duration": 19,
    "start_time": "2022-01-23T12:34:22.040Z"
   },
   {
    "duration": 5,
    "start_time": "2022-01-23T12:34:22.061Z"
   },
   {
    "duration": 7,
    "start_time": "2022-01-23T12:34:22.069Z"
   },
   {
    "duration": 11,
    "start_time": "2022-01-23T12:34:22.078Z"
   },
   {
    "duration": 7,
    "start_time": "2022-01-23T12:34:22.090Z"
   },
   {
    "duration": 9,
    "start_time": "2022-01-23T12:34:22.128Z"
   },
   {
    "duration": 5,
    "start_time": "2022-01-23T12:34:22.139Z"
   },
   {
    "duration": 10,
    "start_time": "2022-01-23T12:34:22.146Z"
   },
   {
    "duration": 7,
    "start_time": "2022-01-23T12:34:22.157Z"
   },
   {
    "duration": 12,
    "start_time": "2022-01-23T12:34:22.166Z"
   },
   {
    "duration": 7,
    "start_time": "2022-01-23T12:34:22.179Z"
   },
   {
    "duration": 39,
    "start_time": "2022-01-23T12:34:22.188Z"
   },
   {
    "duration": 5,
    "start_time": "2022-01-23T12:34:22.229Z"
   },
   {
    "duration": 10,
    "start_time": "2022-01-23T12:34:22.235Z"
   },
   {
    "duration": 7,
    "start_time": "2022-01-23T12:34:22.246Z"
   },
   {
    "duration": 3,
    "start_time": "2022-01-23T12:34:22.254Z"
   },
   {
    "duration": 8,
    "start_time": "2022-01-23T12:34:22.258Z"
   },
   {
    "duration": 7,
    "start_time": "2022-01-23T12:34:22.269Z"
   },
   {
    "duration": 5,
    "start_time": "2022-01-23T12:34:22.279Z"
   },
   {
    "duration": 7,
    "start_time": "2022-01-23T12:34:22.286Z"
   },
   {
    "duration": 33,
    "start_time": "2022-01-23T12:34:22.295Z"
   },
   {
    "duration": 8,
    "start_time": "2022-01-23T12:34:22.330Z"
   },
   {
    "duration": 7,
    "start_time": "2022-01-23T12:34:22.339Z"
   },
   {
    "duration": 12,
    "start_time": "2022-01-23T12:34:22.348Z"
   },
   {
    "duration": 9,
    "start_time": "2022-01-23T12:34:22.362Z"
   },
   {
    "duration": 7,
    "start_time": "2022-01-23T12:34:22.373Z"
   },
   {
    "duration": 7,
    "start_time": "2022-01-23T12:34:22.382Z"
   },
   {
    "duration": 46,
    "start_time": "2022-01-23T12:34:22.391Z"
   },
   {
    "duration": 17,
    "start_time": "2022-01-23T12:34:22.439Z"
   },
   {
    "duration": 14,
    "start_time": "2022-01-23T12:34:22.458Z"
   },
   {
    "duration": 10,
    "start_time": "2022-01-23T12:34:22.474Z"
   },
   {
    "duration": 4,
    "start_time": "2022-01-23T12:34:22.486Z"
   },
   {
    "duration": 40,
    "start_time": "2022-01-23T12:34:22.492Z"
   },
   {
    "duration": 8,
    "start_time": "2022-01-23T12:34:22.534Z"
   },
   {
    "duration": 10,
    "start_time": "2022-01-23T12:34:22.544Z"
   },
   {
    "duration": 17,
    "start_time": "2022-01-23T12:34:22.556Z"
   },
   {
    "duration": 8,
    "start_time": "2022-01-23T12:34:22.575Z"
   },
   {
    "duration": 16,
    "start_time": "2022-01-23T12:34:22.585Z"
   },
   {
    "duration": 26,
    "start_time": "2022-01-23T12:34:22.602Z"
   },
   {
    "duration": 18,
    "start_time": "2022-01-23T12:34:22.630Z"
   },
   {
    "duration": 14,
    "start_time": "2022-01-23T12:34:22.650Z"
   },
   {
    "duration": 15,
    "start_time": "2022-01-23T12:34:22.666Z"
   },
   {
    "duration": 3,
    "start_time": "2022-01-23T12:34:22.683Z"
   },
   {
    "duration": 19,
    "start_time": "2022-01-23T12:34:22.687Z"
   },
   {
    "duration": 13,
    "start_time": "2022-01-23T12:34:22.707Z"
   },
   {
    "duration": 9,
    "start_time": "2022-01-23T12:34:22.721Z"
   },
   {
    "duration": 22,
    "start_time": "2022-01-23T12:34:22.732Z"
   },
   {
    "duration": 12,
    "start_time": "2022-01-23T12:34:22.756Z"
   },
   {
    "duration": 18,
    "start_time": "2022-01-23T12:34:22.770Z"
   },
   {
    "duration": 20,
    "start_time": "2022-01-23T12:34:22.789Z"
   },
   {
    "duration": 27,
    "start_time": "2022-01-23T12:34:22.810Z"
   },
   {
    "duration": 7,
    "start_time": "2022-01-23T12:34:22.839Z"
   },
   {
    "duration": 10,
    "start_time": "2022-01-23T12:34:22.848Z"
   },
   {
    "duration": 10,
    "start_time": "2022-01-23T12:34:22.859Z"
   },
   {
    "duration": 579,
    "start_time": "2022-01-23T12:34:22.870Z"
   },
   {
    "duration": 1286,
    "start_time": "2022-01-23T12:34:23.450Z"
   },
   {
    "duration": 6,
    "start_time": "2022-01-23T12:34:24.737Z"
   },
   {
    "duration": 7,
    "start_time": "2022-01-23T12:34:24.745Z"
   },
   {
    "duration": 4,
    "start_time": "2022-01-23T12:34:24.754Z"
   },
   {
    "duration": 11,
    "start_time": "2022-01-23T12:34:24.759Z"
   },
   {
    "duration": 6,
    "start_time": "2022-01-23T12:34:24.772Z"
   },
   {
    "duration": 6,
    "start_time": "2022-01-23T12:34:24.780Z"
   },
   {
    "duration": 4,
    "start_time": "2022-01-23T12:34:24.791Z"
   },
   {
    "duration": 1654,
    "start_time": "2022-01-23T12:34:24.796Z"
   },
   {
    "duration": 8,
    "start_time": "2022-01-23T12:34:26.452Z"
   },
   {
    "duration": 8,
    "start_time": "2022-01-23T12:34:26.462Z"
   },
   {
    "duration": 8,
    "start_time": "2022-01-23T12:34:26.471Z"
   },
   {
    "duration": 10,
    "start_time": "2022-01-23T12:34:26.481Z"
   },
   {
    "duration": 3,
    "start_time": "2022-01-23T12:34:26.493Z"
   },
   {
    "duration": 33,
    "start_time": "2022-01-23T12:34:26.498Z"
   },
   {
    "duration": 9,
    "start_time": "2022-01-23T12:34:26.533Z"
   },
   {
    "duration": 9,
    "start_time": "2022-01-23T12:34:26.543Z"
   },
   {
    "duration": 13,
    "start_time": "2022-01-23T12:34:26.554Z"
   },
   {
    "duration": 6,
    "start_time": "2022-01-23T12:34:26.569Z"
   },
   {
    "duration": 17,
    "start_time": "2022-01-23T12:34:26.577Z"
   },
   {
    "duration": 7,
    "start_time": "2022-01-23T12:34:26.596Z"
   },
   {
    "duration": 29,
    "start_time": "2022-01-23T12:34:26.604Z"
   },
   {
    "duration": 9,
    "start_time": "2022-01-23T12:34:26.635Z"
   },
   {
    "duration": 8,
    "start_time": "2022-01-23T12:34:26.646Z"
   }
  ],
  "kernelspec": {
   "display_name": "Python 3",
   "language": "python",
   "name": "python3"
  },
  "language_info": {
   "codemirror_mode": {
    "name": "ipython",
    "version": 3
   },
   "file_extension": ".py",
   "mimetype": "text/x-python",
   "name": "python",
   "nbconvert_exporter": "python",
   "pygments_lexer": "ipython3",
   "version": "3.8.8"
  },
  "toc": {
   "base_numbering": 1,
   "nav_menu": {},
   "number_sections": true,
   "sideBar": true,
   "skip_h1_title": true,
   "title_cell": "Table of Contents",
   "title_sidebar": "Contents",
   "toc_cell": false,
   "toc_position": {},
   "toc_section_display": true,
   "toc_window_display": true
  },
  "varInspector": {
   "cols": {
    "lenName": 16,
    "lenType": 16,
    "lenVar": 40
   },
   "kernels_config": {
    "python": {
     "delete_cmd_postfix": "",
     "delete_cmd_prefix": "del ",
     "library": "var_list.py",
     "varRefreshCmd": "print(var_dic_list())"
    },
    "r": {
     "delete_cmd_postfix": ") ",
     "delete_cmd_prefix": "rm(",
     "library": "var_list.r",
     "varRefreshCmd": "cat(var_dic_list()) "
    }
   },
   "types_to_exclude": [
    "module",
    "function",
    "builtin_function_or_method",
    "instance",
    "_Feature"
   ],
   "window_display": false
  }
 },
 "nbformat": 4,
 "nbformat_minor": 5
}
